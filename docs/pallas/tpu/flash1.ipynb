{
 "cells": [
  {
   "cell_type": "markdown",
   "metadata": {
    "id": "_OPHxPDzDAIe"
   },
   "source": [
    "# The Math of Flash Attention"
   ]
  },
  {
   "cell_type": "markdown",
   "metadata": {
    "id": "1NKSJ3qIKrYp"
   },
   "source": [
    "In this notebook, we will cover the math of flash attention, specifically for the forward pass. We will cover the backward pass in a future document. We won't dive into writing an optimized kernel *quite* yet, but will finish the guide with a simple vanilla JAX implementation."
   ]
  },
  {
   "cell_type": "code",
   "execution_count": null,
   "metadata": {
    "cellView": "form",
    "id": "jHaKJ7-GDRD_"
   },
   "outputs": [],
   "source": [
    "#@title Imports\n",
    "import jax\n",
    "import jax.numpy as jnp\n",
    "from jax.experimental import pallas as pl\n",
    "import numpy as np"
   ]
  },
  {
   "cell_type": "markdown",
   "metadata": {
    "id": "VhHO861GEOqe"
   },
   "source": [
    "In JAX, we can implement self attention by doing einsum, divide, softmax, then einsum."
   ]
  },
  {
   "cell_type": "code",
   "execution_count": null,
   "metadata": {
    "id": "heFFbbRCEQla"
   },
   "outputs": [],
   "source": [
    "def attention(\n",
    "    q: jax.Array,  # [seq_len, head_dim]\n",
    "    k: jax.Array,  # [seq_len, head_dim]\n",
    "    v: jax.Array,  # [seq_len, head_dim]\n",
    "    ) -> jax.Array:\n",
    "  logits = jnp.einsum('sd,td->st', q, k) / jnp.sqrt(q.shape[1])\n",
    "  probs = jax.nn.softmax(logits, axis=-1)\n",
    "  return jnp.einsum('st,td->sd', probs, v)"
   ]
  },
  {
   "cell_type": "markdown",
   "metadata": {
    "id": "mL-wR-OqDQh-"
   },
   "source": [
    "With flash attention, we are interested in writing a single kernel that does this entire operation without materializing any intermediates in memory (a.k.a. fusion). However, as we will soon see, the softmax makes this operation particularly tricky to fuse. Let's first dive into the softmax to see what exactly it's doing.\n",
    "\n",
    "## Stable Softmax\n",
    "\n",
    "Softmax is mathematically defined as (for a vector $x$)\n",
    "\n",
    "$$\n",
    "\\sigma(x) \\triangleq \\frac{\\exp x}{\\sum_i \\exp x_i}\n",
    "$$\n",
    "\n",
    "and in JAX, naively defined as:"
   ]
  },
  {
   "cell_type": "code",
   "execution_count": null,
   "metadata": {
    "id": "O-OzzPzPC-iC"
   },
   "outputs": [],
   "source": [
    "def naive_softmax(x, axis=-1):\n",
    "  x_exp = jnp.exp(x)\n",
    "  return x_exp / jnp.sum(x_exp, axis=axis, keepdims=True)"
   ]
  },
  {
   "cell_type": "markdown",
   "metadata": {
    "id": "b6Uruw4bDeTc"
   },
   "source": [
    "Softmax takes a vector of real-valued numbers (often called \"logits\") and normalizes it to make it a probability distribution; the resulting vector only has values between 0 and 1 and sums to 1."
   ]
  },
  {
   "cell_type": "code",
   "execution_count": null,
   "metadata": {
    "executionInfo": {
     "elapsed": 8978,
     "status": "ok",
     "timestamp": 1709845894749,
     "user": {
      "displayName": "Sharad Vikram",
      "userId": "16113763449895047367"
     },
     "user_tz": 480
    },
    "id": "kpYVySD4Dd1t",
    "outputId": "cdf0118b-d3be-4474-a7f3-6c4914f611e5"
   },
   "outputs": [
    {
     "name": "stdout",
     "output_type": "stream",
     "text": [
      "[0.01321289 0.2653882  0.7213989 ] 1.0\n"
     ]
    }
   ],
   "source": [
    "logits = jnp.array([-1., 2., 3.])\n",
    "probs = naive_softmax(logits)\n",
    "print(probs, probs.sum())"
   ]
  },
  {
   "cell_type": "markdown",
   "metadata": {
    "id": "mZdkQXElRPoj"
   },
   "source": [
    "In practice, we never implement softmax like this because of the possibility of numerical overflow and underflow. The `exp` function can overflow values to infinity or underflow values to zero, resulting in our `softmax` function outputting `nan`s."
   ]
  },
  {
   "cell_type": "code",
   "execution_count": null,
   "metadata": {
    "executionInfo": {
     "elapsed": 2,
     "status": "ok",
     "timestamp": 1709845894935,
     "user": {
      "displayName": "Sharad Vikram",
      "userId": "16113763449895047367"
     },
     "user_tz": 480
    },
    "id": "s2LoLpDERsTh",
    "outputId": "1c754725-e218-47e6-e33a-565a5964a1ca"
   },
   "outputs": [
    {
     "name": "stdout",
     "output_type": "stream",
     "text": [
      "[ 0.  0. nan] nan\n",
      "[nan nan nan] nan\n"
     ]
    }
   ],
   "source": [
    "# Overflowing one value\n",
    "logits = jnp.array([70., 80., 90.])\n",
    "probs = naive_softmax(logits)\n",
    "print(probs, probs.sum())\n",
    "\n",
    "# Underflowing all values\n",
    "logits = jnp.array([-90., -110., -120.])\n",
    "probs = naive_softmax(logits)\n",
    "print(probs, probs.sum())"
   ]
  },
  {
   "cell_type": "markdown",
   "metadata": {
    "id": "XMwfpz-2SD-0"
   },
   "source": [
    "Instead, we take advantage of the fact that we can shift our logits by a constant $c$ without changing the result of the softmax, i.e. $\\sigma(x - c) = \\sigma(x)$. If we set $c = \\max_i x_i$, we will subtract off the largest logit and we can avoid over and underflow because the largest logit will always be 0."
   ]
  },
  {
   "cell_type": "code",
   "execution_count": null,
   "metadata": {
    "id": "49Doqlk2SDCt"
   },
   "outputs": [],
   "source": [
    "@jax.jit\n",
    "def softmax(x, axis: int = -1):\n",
    "  x_max = jnp.max(x, axis=axis, keepdims=True)\n",
    "  x_shifted = x - x_max\n",
    "  x_numerator = jnp.exp(x_shifted)\n",
    "  return x_numerator / jnp.sum(x_numerator, axis=axis, keepdims=True)"
   ]
  },
  {
   "cell_type": "code",
   "execution_count": null,
   "metadata": {
    "executionInfo": {
     "elapsed": 52,
     "status": "ok",
     "timestamp": 1709845895352,
     "user": {
      "displayName": "Sharad Vikram",
      "userId": "16113763449895047367"
     },
     "user_tz": 480
    },
    "id": "5aU7VcmmSfXI",
    "outputId": "e12509dc-2c6f-4abe-d9d7-bbbd0485746c"
   },
   "outputs": [
    {
     "name": "stdout",
     "output_type": "stream",
     "text": [
      "[2.0610604e-09 4.5397799e-05 9.9995458e-01] 1.0\n",
      "[1.0000000e+00 2.0611541e-09 9.3576297e-14] 1.0\n"
     ]
    }
   ],
   "source": [
    "# No more overflow!\n",
    "logits = jnp.array([70., 80., 90.])\n",
    "probs = softmax(logits)\n",
    "print(probs, probs.sum())\n",
    "\n",
    "# No more underflow!\n",
    "logits = jnp.array([-90., -110., -120.])\n",
    "probs = softmax(logits)\n",
    "print(probs, probs.sum())"
   ]
  },
  {
   "cell_type": "markdown",
   "metadata": {
    "id": "cQqVKlL66wzA"
   },
   "source": [
    "## Challenges of fusing attention"
   ]
  },
  {
   "cell_type": "markdown",
   "metadata": {
    "id": "W5JbRV8n60Y8"
   },
   "source": [
    "Here's the implementation of attention one more time for us to look at."
   ]
  },
  {
   "cell_type": "code",
   "execution_count": null,
   "metadata": {
    "id": "VeF4vwDt64on"
   },
   "outputs": [],
   "source": [
    "def attention(\n",
    "    q: jax.Array,  # [seq_len, head_dim]\n",
    "    k: jax.Array,  # [seq_len, head_dim]\n",
    "    v: jax.Array,  # [seq_len, head_dim]\n",
    "    ) -> jax.Array:\n",
    "  logits = jnp.einsum('sd,td->st', q, k) / jnp.sqrt(q.shape[1])\n",
    "  probs = jax.nn.softmax(logits, axis=-1)\n",
    "  return jnp.einsum('st,td->sd', probs, v)"
   ]
  },
  {
   "cell_type": "markdown",
   "metadata": {
    "id": "ElBZberU66Dl"
   },
   "source": [
    "If we want to design a fused version of it, we need the operation to do a matrix multiplication, then a softmax, then a matrix multiplication all at the same time. Let's imagine this op but without the softmax."
   ]
  },
  {
   "cell_type": "code",
   "execution_count": null,
   "metadata": {
    "id": "ihrYePt57iBC"
   },
   "outputs": [],
   "source": [
    "def attention_without_softmax(\n",
    "    q: jax.Array,  # [seq_len, head_dim]\n",
    "    k: jax.Array,  # [seq_len, head_dim]\n",
    "    v: jax.Array,  # [seq_len, head_dim]\n",
    "    ) -> jax.Array:\n",
    "  logits = jnp.einsum('sd,td->st', q, k) / jnp.sqrt(q.shape[1])\n",
    "  o = jnp.einsum('st,td->sd', logits, v)\n",
    "  return o"
   ]
  },
  {
   "cell_type": "markdown",
   "metadata": {
    "id": "xFh5Ao1l7wOa"
   },
   "source": [
    "This function is basically two back to back matmuls. It's actually quite easy to write a fusion of this. We just need to notice that each entry of the output\n",
    "vector `o_i` can be computed as $o_i = (q_i k^T) v$. Furthermore, the `head_dim` is often small (ranging from 32 to 512 usually) and can be comfortably fit into VMEM. Therefore, we don't need to tile the reduction dimension for the `q @ k.T` matmul and can tile the reduction over the `(q @ k.T) @ v` matmul."
   ]
  },
  {
   "cell_type": "code",
   "execution_count": null,
   "metadata": {
    "id": "vmgFElfX8qlD"
   },
   "outputs": [],
   "source": [
    "def attention_without_softmax_kernel(q_ref, k_ref, v_ref, o_ref):\n",
    "  @pl.when(pl.program_id(1) == 0)\n",
    "  def _():\n",
    "    o_ref[...] = jnp.zeros_like(o_ref[...])\n",
    "  q = q_ref[...] / jnp.sqrt(q_ref.shape[1])\n",
    "  transpose_dims = ((1,), (1,)), ((), ())\n",
    "  qk = jax.lax.dot_general(q, k_ref[...], transpose_dims)\n",
    "  o_ref[...] += qk @ v_ref[...]\n",
    "\n",
    "\n",
    "def attention_without_softmax_pallas(q, k, v, *, bq: int = 128, bkv: int = 128):\n",
    "  seq_len, head_dim = q.shape\n",
    "  return pl.pallas_call(\n",
    "      attention_without_softmax_kernel,\n",
    "      out_shape=q,\n",
    "      grid=(seq_len // bq, seq_len // bkv),\n",
    "      in_specs=[\n",
    "          pl.BlockSpec(lambda i, j: (i, 0), (bq, head_dim)),\n",
    "          pl.BlockSpec(lambda i, j: (j, 0), (bkv, head_dim)),\n",
    "          pl.BlockSpec(lambda i, j: (j, 0), (bkv, head_dim)),\n",
    "      ],\n",
    "      out_specs=pl.BlockSpec(lambda i, j: (i, 0), (bq, head_dim)),\n",
    "  )(q, k, v)\n",
    "\n",
    "\n",
    "k1, k2, k3 = jax.random.split(jax.random.key(0), 3)\n",
    "q = jax.random.normal(k1, (1024, 256))\n",
    "k = jax.random.normal(k2, (1024, 256))\n",
    "v = jax.random.normal(k3, (1024, 256))\n",
    "np.testing.assert_allclose(\n",
    "    attention_without_softmax(q, k, v),\n",
    "    attention_without_softmax_pallas(q, k, v),\n",
    ")"
   ]
  },
  {
   "cell_type": "markdown",
   "metadata": {
    "id": "rvsvLCm77nMo"
   },
   "source": [
    "What happens if we add the softmax back in? Can we still do the same fusion? Well not exactly. The problem is because the softmax involves a sequence of *reductions* over the rows of `(q @ k.T)`. For a stable softmax, we have to do a maximum over the output to compute `x_max` and a sum over the output to compute the denominator of the softmax. We fiially need to normalize the vector by the denominator.\n",
    "\n",
    "Softmax requires several passes over a vector to compute the final result, but inside our kernel, we're only computing a chunk of each row of `(q @ k.T)` at any given moment so we never have the full dimension present in VMEM and we only do one pass over the rows of `(q @ k.T)`. If we can fit that dimension in VMEM, then we can do all of those passes over the rows inside the kernel. Let's try a version of attention where we include the softmax, but only if we can fit the entire dimension in VMEM."
   ]
  },
  {
   "cell_type": "code",
   "execution_count": null,
   "metadata": {
    "id": "rTGvAWL3EGwB"
   },
   "outputs": [],
   "source": [
    "def attention_with_softmax_kernel(q_ref, k_ref, v_ref, o_ref):\n",
    "  q = q_ref[...] / jnp.sqrt(q_ref.shape[1])\n",
    "  transpose_dims = ((1,), (1,)), ((), ())\n",
    "  qk = jax.lax.dot_general(q, k_ref[...], transpose_dims)\n",
    "  # Call our existing stable softmax function\n",
    "  probs = softmax(qk)\n",
    "  o_ref[...] = probs @ v_ref[...]\n",
    "\n",
    "\n",
    "def attention_pallas(q, k, v, *, bq: int = 128):\n",
    "  seq_len, head_dim = q.shape\n",
    "  return pl.pallas_call(\n",
    "      attention_with_softmax_kernel,\n",
    "      out_shape=q,\n",
    "      grid=(seq_len // bq,),\n",
    "      in_specs=[\n",
    "          pl.BlockSpec(lambda i: (i, 0), (bq, head_dim)),\n",
    "          pl.BlockSpec(lambda i: (0, 0), (seq_len, head_dim)),\n",
    "          pl.BlockSpec(lambda i: (0, 0), (seq_len, head_dim)),\n",
    "      ],\n",
    "      out_specs=pl.BlockSpec(lambda i: (i, 0), (bq, head_dim)),\n",
    "  )(q, k, v)\n",
    "\n",
    "\n",
    "k1, k2, k3 = jax.random.split(jax.random.key(0), 3)\n",
    "q = jax.random.normal(k1, (1024, 256))\n",
    "k = jax.random.normal(k2, (1024, 256))\n",
    "v = jax.random.normal(k3, (1024, 256))\n",
    "np.testing.assert_allclose(\n",
    "    attention(q, k, v),\n",
    "    attention_pallas(q, k, v),\n",
    "    atol=1e-3,\n",
    "    rtol=1e-3\n",
    ")"
   ]
  },
  {
   "cell_type": "markdown",
   "metadata": {
    "id": "fAM2WVZMeXCa"
   },
   "source": [
    "This fusion is similar to one XLA performs automatically at smaller sequence lengths. This strategy has the main disadvantage that if we increase the sequence length too much, we run out of VMEM. For example at 16k, our kernel will fail to compile due to VMEM OOM."
   ]
  },
  {
   "cell_type": "code",
   "execution_count": null,
   "metadata": {
    "executionInfo": {
     "elapsed": 3087,
     "status": "ok",
     "timestamp": 1709845900986,
     "user": {
      "displayName": "Sharad Vikram",
      "userId": "16113763449895047367"
     },
     "user_tz": 480
    },
    "id": "X8CV28aZE_GK",
    "outputId": "220134c3-f5bb-46d8-ed0c-ea9a629d7089"
   },
   "outputs": [
    {
     "name": "stdout",
     "output_type": "stream",
     "text": [
      "Ran out of memory!\n"
     ]
    }
   ],
   "source": [
    "k1, k2, k3 = jax.random.split(jax.random.key(0), 3)\n",
    "q = jax.random.normal(k1, (16384, 256))\n",
    "k = jax.random.normal(k2, (16384, 256))\n",
    "v = jax.random.normal(k3, (16384, 256))\n",
    "try:\n",
    "  np.testing.assert_allclose(\n",
    "      attention(q, k, v),\n",
    "      attention_pallas(q, k, v),\n",
    "      atol=1e-3,\n",
    "      rtol=1e-3\n",
    "  )\n",
    "except:\n",
    "  print(\"Ran out of memory!\")"
   ]
  },
  {
   "cell_type": "markdown",
   "metadata": {
    "id": "h-mr5pdaFarD"
   },
   "source": [
    "Unfortunately, this fit-into-VMEM approach isn't scalable, so we'll have to come up with a different strategy to handle longer sequences."
   ]
  },
  {
   "cell_type": "markdown",
   "metadata": {
    "id": "aarziaQWFrRh"
   },
   "source": [
    "## Chunked softmax: the math"
   ]
  },
  {
   "cell_type": "markdown",
   "metadata": {
    "id": "cRJQIBuYHJ_w"
   },
   "source": [
    "> Warning: this section will go into a lot of the mathematical detail. If you'd like to skip it, we'll outline the equations for flash attention at the beginning of the next section.\n",
    "\n",
    "\n",
    "Rather than trying to squeeze the entire `seq_len` dimension into VMEM for `k` and `v`, could we operate on it in chunks like we did with the `attention_without_softmax`?\n",
    "\n",
    "The answer is yes! But how to do it is not as simple and involves some math."
   ]
  },
  {
   "cell_type": "markdown",
   "metadata": {
    "id": "BBl_zLw9KHQo"
   },
   "source": [
    "To build intuition, let's say that we are doing a chunked softmax, a.k.a. we are computing the softmax of a vector but we would like to compute it by iterating over chunks of the vector. We'll keep some iteration state.\n",
    "\n",
    "In this chunked softmax, for simplicity, we'll divide our vector $x$ into two chunks $[a; b]$. We'll assume that we are iterating over chunks and that we have *just* finished processing $a$ and are about to process $b$.\n",
    "\n",
    "$$\n",
    "\\begin{align}\n",
    "x &\\triangleq [a; b]\n",
    "\\end{align}\n",
    "$$\n",
    "\n",
    "Let's assume *inductively* that we've computed some state about the softmax up to this point.\n",
    "Specifically, let's assume we have $m_{\\text{prev}}, l_{\\text{prev}}$, and $f_{\\text{prev}}$.\n",
    "\n",
    "\\begin{align}\n",
    "m_\\text{prev} &\\triangleq \\max_i a_i \\\\\n",
    "f_\\text{prev} &\\triangleq \\exp (a - m_\\text{prev}) \\\\\n",
    "l_\\text{prev} &\\triangleq \\sum_i f_{\\text{prev},i}\n",
    "\\end{align}\n",
    "\n",
    "The idea is to eventually compute $m_\\text{next}, f_\\text{next}$ and $l_\\text{next}$ given a the new chunk $b$ and the previous terms.\n",
    "\n",
    "### Computing the updated terms\n",
    "\n",
    "We'd now like to compute $m_\\text{next}, l_\\text{next}$ and $f_\\text{next}$, a.k.a. the state that we'd hope would allow us to compute the softmax of $[a; b]$.\n",
    "\n",
    "Let's first start by computing some local terms (i.e. terms computed only on $b$):\n",
    "\n",
    "\\begin{align}\n",
    "m_\\text{curr} &\\triangleq \\max_i b_i \\\\\n",
    "f_\\text{curr} &\\triangleq \\exp (b - m_\\text{curr}) \\\\\n",
    "l_\\text{curr} &\\triangleq \\sum_i f_{\\text{curr},i}\n",
    "\\end{align}\n",
    "\n",
    "#### Computing $m_\\text{next}$\n",
    "How can we use these terms to compute an updated softmax state? The first thing to notice is that we need to keep track of running maximum. We know that:\n",
    "\n",
    "$$\n",
    "\\begin{align}\n",
    "m_\\text{next} \\triangleq \\max(m_\\text{prev}, m_\\text{curr})\n",
    "\\end{align}\n",
    "$$\n",
    "\n",
    "#### Computing $f_\\text{next}$\n",
    "That was the easy part. How do we now compute $f_\\text{next}$.\n",
    "\n",
    "Ideally, we want $f_\\text{next}$ to be $\\exp(x - m(x))$. However, $m(x)$ could be either $m_\\text{curr}$ or $m_\\text{prev}$.\n",
    "\n",
    "It seems like we want a conditional here where $f(x)$ depends on whether our running maximum was updated or not:\n",
    "$$\n",
    "f_\\text{next} =\n",
    "   \\begin{cases}\n",
    "      \\exp\\left(x - m_\\text{curr}\\right) & m_\\text{curr} > m_\\text{prev} \\\\\n",
    "      \\exp\\left(x - m_\\text{prev}\\right) & \\text{otherwise} \\\\\n",
    "   \\end{cases}\n",
    "$$\n",
    "\n",
    "However, there are two problems that make this impractical:\n",
    "1. We don't have access to $a$ anymore (we only \"remember\" $m_\\text{prev}, f_\\text{prev}$ and $l_\\text{prev}$).\n",
    "2. If we eventually want to implement a chunked softmax as a GPU or TPU kernel, we want to avoid a conditional. Can we express this without explicitly comparing the $m_\\text{curr}$ and $m_\\text{prev}$ values?\n",
    "\n",
    "Let's address the issue #1 first. How do we compute $f_\\text{next}$ when we don't directly have access to $a$. Let's break it down into two cases:\n",
    "\n",
    "##### Case 1: $m_\\text{curr} > m_\\text{prev}$ (a.k.a. we are updating our maximum).\n",
    "\n",
    "Observe that\n",
    "$$\n",
    "\\begin{align*}\n",
    "f_\\text{next} &=  [f_{\\text{next},a}; f_{\\text{next},b}] \\\\\n",
    "&= [\\exp(a - m_\\text{curr}); \\exp(b - m_\\text{curr})] \\\\\n",
    "&= [\\exp(a - m_\\text{curr}); f_\\text{curr}]\n",
    "\\end{align*}\n",
    "$$\n",
    "\n",
    "This means our already computed $f_\\text{curr}$ is ready to go!\n",
    "\n",
    "However, $f_\\text{prev} =\\exp(a - m_\\text{prev}) \\neq \\exp(a - m_\\text{curr})$ so we need to adjust the $a$-part.\n",
    "\n",
    "We therefore need to multiply $f_\\text{prev}$ by a correction factor $\\alpha = \\exp(m_\\text{prev} - m_\\text{curr})$\n",
    "producing:\n",
    "$$\n",
    "\\begin{align*}\n",
    "\\exp(m_\\text{prev} - m_\\text{curr}) f_\\text{prev} &= \\exp(m_\\text{prev} - m_\\text{curr}) \\exp(a - m_\\text{prev}) \\\\\n",
    "&= \\exp(a - m_\\text{curr}) = f_{\\text{next},a}\n",
    "\\end{align*}\n",
    "$$\n",
    "\n",
    "Therefore, we set:\n",
    "$$\n",
    "f_\\text{next} = [\\alpha f_\\text{prev}; f_\\text{curr}]\n",
    "$$\n",
    "\n",
    "##### Case 2: $m_\\text{curr} \\leq m_\\text{prev}$ (a.k.a. we keep our old maximum).\n",
    "\n",
    "Observe that\n",
    "$$\n",
    "\\begin{align*}\n",
    "f_\\text{next} &=  [f_{\\text{next},a}; f_{\\text{next},b}] \\\\\n",
    "&= [\\exp(a - m_\\text{prev}); \\exp(b - m_\\text{prev})] \\\\\n",
    "&= [f_\\text{prev}; \\exp(b - m_\\text{prev})] \\\\\n",
    "\\end{align*}\n",
    "$$\n",
    "\n",
    "In this case, our previously computed $f_\\text{prev}$ was correct!\n",
    "\n",
    "Let's update $f_\\text{curr} = \\exp(b - m_\\text{curr})$ in a similar fashion.\n",
    "Let $\\beta = \\exp(m_\\text{curr} - m_\\text{prev})$ and let\n",
    "$$\n",
    "f_{\\text{next},b} = \\beta f_\\text{curr}\n",
    "$$\n",
    "\n",
    "Therefore, we set:\n",
    "$$\n",
    "f_\\text{next} =  [f_\\text{prev}; \\beta f_\\text{curr}]\n",
    "$$\n",
    "\n",
    "Okay! We were able adjust our computed quantities to compute the correct $f_\\text{next}$ in both cases (new or old max).\n",
    "\n",
    "##### Computing $f_\\text{next}$ without a conditional\n",
    "\n",
    "Can we address issue #2 now and avoid using a conditional? Well it turns out to be really easy. Let's take a look at our correction terms:\n",
    "$$\n",
    "\\begin{align*}\n",
    "\\alpha = \\exp (m_\\text{prev} - m_\\text{curr}) \\\\\n",
    "\\beta = \\exp (m_\\text{curr} - m_\\text{prev})\n",
    "\\end{align*}\n",
    "$$\n",
    "Let's use $m_\\text{next}$ (which we have already computed) to rewrite these terms without changing their values in their conditionals.\n",
    "$$\n",
    "\\begin{align}\n",
    "\\alpha \\triangleq \\exp (m_\\text{prev} - m_\\text{next}) \\\\\n",
    "\\beta \\triangleq \\exp (m_\\text{curr} - m_\\text{next})\n",
    "\\end{align}\n",
    "$$\n",
    "\n",
    "Convince yourself that this is okay and that this falls out from the definition of $m_\\text{next}$.\n",
    "\n",
    "Now, notice that when $m_\\text{curr} > m_\\text{prev}$ (a.k.a. case 1), $\\beta = 1$. Similarly, when $m_\\text{curr} \\leq m_\\text{prev}$, $\\alpha = 1$.\n",
    "\n",
    "That means, that the corrections turn into no-ops automatically if their case isn't triggered. We can therefore avoid the conditional by computing both $\\alpha$ and $\\beta$ and then computing:\n",
    "\n",
    "$$\n",
    "\\begin{align}\n",
    "f_\\text{next} \\triangleq [\\alpha f_\\text{prev}; \\beta f_\\text{curr}]\n",
    "\\end{align}\n",
    "$$\n",
    "\n",
    "#### Computing $l_\\text{next}$\n",
    "\n",
    "Well, the hard work is all done now!\n",
    "\n",
    "We know $l_\\text{next} = \\sum_i f_{\\text{next}, i}$.\n",
    "\n",
    "Thanks to linearity, we can therefore compute:\n",
    "$$\n",
    "\\begin{align}\n",
    "l_\\text{next} \\triangleq \\alpha l_\\text{prev} + \\beta l_\\text{curr}\n",
    "\\end{align}\n",
    "$$\n",
    "\n",
    "That's it!"
   ]
  },
  {
   "cell_type": "markdown",
   "metadata": {
    "id": "yu71mFxlMaLr"
   },
   "source": [
    "### Final chunked softmax equations\n",
    "\n",
    "The equations for chunked softmax are, assuming we have access to $m_\\text{prev}$, $l_\\text{prev}$, $f_\\text{prev}$ and a new chunk $b$, we first compute the local terms:\n",
    "\n",
    "$$\n",
    "\\begin{align*}\n",
    "m_\\text{curr} &= \\max_i b_i \\\\\n",
    "f_\\text{curr} &= \\exp \\left(b - m_\\text{curr}\\right) \\\\\n",
    "l_\\text{curr} &= \\sum_i f_{\\text{curr}, i}\n",
    "\\end{align*}\n",
    "$$\n",
    "To compute the updated terms for the next iteration, we compute:\n",
    "$$\n",
    "\\begin{align*}\n",
    "m_\\text{next} &= \\max \\left(m_\\text{prev}, m_\\text{curr}\\right) \\\\\n",
    "\\alpha &= \\exp \\left(m_\\text{prev} - m_\\text{next}\\right) \\\\\n",
    "\\beta &= \\exp \\left(m_\\text{curr} - m_\\text{next}\\right) \\\\\n",
    "l_\\text{next} &= \\alpha l_\\text{prev} + \\beta l_\\text{curr} \\\\\n",
    "f_\\text{next} &= \\left[\\alpha f_\\text{prev}; \\beta f_\\text{curr}\\right]\n",
    "\\end{align*}\n",
    "$$"
   ]
  },
  {
   "cell_type": "markdown",
   "metadata": {
    "id": "tQCqqi9viXUP"
   },
   "source": [
    "Here is an implementation in JAX as well:"
   ]
  },
  {
   "cell_type": "code",
   "execution_count": null,
   "metadata": {
    "id": "8hlJRzKZMZad"
   },
   "outputs": [],
   "source": [
    "def chunked_softmax(x, *, chunk_size: int = 128):\n",
    "  assert x.shape[0] % chunk_size == 0\n",
    "  m_prev = -jnp.inf\n",
    "  l_prev = 0.\n",
    "  f_prev = jnp.array([], dtype=np.float32)\n",
    "\n",
    "  for i in range(x.shape[0] // chunk_size):\n",
    "    x_chunk = x[i * chunk_size:(i + 1) * chunk_size]\n",
    "\n",
    "    # Compute terms for current chunk\n",
    "    m_curr = x_chunk.max()\n",
    "    f_curr = jnp.exp(x_chunk - m_curr)\n",
    "    l_curr = f_curr.sum()\n",
    "\n",
    "    # Compute updated terms with corrections\n",
    "    m_next = jnp.maximum(m_prev, m_curr)\n",
    "    alpha = jnp.exp(m_prev - m_next)\n",
    "    beta = jnp.exp(m_curr - m_next)\n",
    "    l_next = alpha * l_prev + beta * l_curr\n",
    "    f_next = jnp.concatenate([alpha * f_prev, beta * f_curr])\n",
    "\n",
    "    m_prev, l_prev, f_prev = m_next, l_next, f_next\n",
    "  return f_prev / l_prev\n",
    "\n",
    "x = jax.random.normal(jax.random.key(0), (1024,), jnp.float32)\n",
    "np.testing.assert_allclose(chunked_softmax(x), softmax(x), atol=1e-6, rtol=1e-6)"
   ]
  },
  {
   "cell_type": "markdown",
   "metadata": {
    "id": "L77OM90mjfIy"
   },
   "source": [
    "## Flash Attention: the math"
   ]
  },
  {
   "cell_type": "markdown",
   "metadata": {
    "id": "mHvP-j_EjhKj"
   },
   "source": [
    "> Again, we will go through some math here to get a deep understanding of the flash attention math. Feel free to skip to the end of this section to see the final equations.\n",
    "\n",
    "Now that we know softmax can be computed online (in one pass) using the chunking approach, let's apply it to something that looks a bit more like flash attention.\n",
    "\n",
    "What's the difference between flash attention and a chunked softmax? Well, not much actually. The main difference is that we fuse the softmax with a dot product. (In full attention, we'd be fusing a batched softmax with a matrix multiply).\n",
    "\n",
    "Let's consider a really simple version of this where after computing $s = \\text{softmax}(x)$ we want to compute $o = s \\cdot v$ for some vector $v$.\n",
    "\n",
    "Ideally, we'd do this by iterating over $s$ and $o$ exactly once and compute it online (i.e. fused).\n",
    "\n",
    "Let's use our induction strategy from before by first partitioning $x = [a; b]$ and $v = [c; d]$.\n",
    "Let's also assume we have $m_{\\text{prev}}, l_{\\text{prev}}, f_\\text{prev}$, and $o_{\\text{prev}}$.\n",
    "\n",
    "\\begin{align}\n",
    "m_\\text{prev} &\\triangleq \\max_i a_i \\\\\n",
    "f_\\text{prev} &\\triangleq \\exp (a - m_\\text{prev}) \\\\\n",
    "l_\\text{prev} &\\triangleq \\sum_i f_{\\text{prev},i} \\\\\n",
    "o_\\text{prev} &\\triangleq \\frac{f_\\text{prev}}{l_\\text{prev}} \\cdot c\n",
    "\\end{align}\n",
    "\n",
    "Let's also compute our local terms:\n",
    "\n",
    "\\begin{align}\n",
    "m_\\text{curr} &\\triangleq \\max_i b_i \\\\\n",
    "f_\\text{curr} &\\triangleq \\exp (b - m_\\text{curr}) \\\\\n",
    "l_\\text{curr} &\\triangleq \\sum_i f_{\\text{curr},i} \\\\\n",
    "o_\\text{curr} &\\triangleq \\frac{f_\\text{curr}}{l_\\text{curr}} \\cdot d\n",
    "\\end{align}\n",
    "\n",
    "We'd now like to compute $m_\\text{next}, l_\\text{next}, f_\\text{next}$ and $o_\\text{next}$.\n",
    "\n",
    "We can exactly compute $m_\\text{next}, l_\\text{next}$ and $f_\\text{next}$ as we did in chunked softmax.\n",
    "\n",
    "$$\n",
    "\\begin{align*}\n",
    "m_\\text{next} &\\triangleq \\max(m_\\text{prev}, m_\\text{curr}) \\\\\n",
    "\\alpha &\\triangleq \\exp (m_\\text{prev} - m_\\text{next}) \\\\\n",
    "\\beta &\\triangleq \\exp (m_\\text{curr} - m_\\text{next}) \\\\\n",
    "f_\\text{next} &\\triangleq [\\alpha f_\\text{prev}; \\beta f_\\text{curr}] \\\\\n",
    "l_\\text{next} &\\triangleq \\alpha l_\\text{prev} + \\beta l_\\text{curr} \\\\\n",
    "\\end{align*}\n",
    "$$\n",
    "\n",
    "We now need to do a correction for $o_\\text{prev}$ and $o_\\text{curr}$ now by adopting a similar strategy to before (consider the cases when we do and don't update the maximum).\n",
    "\n",
    "##### Case 1: $m_\\text{curr} > m_\\text{prev}$ (a.k.a. we are updating our maximum).\n",
    "\n",
    "Ideally we want\n",
    "$$\n",
    "\\begin{align*}\n",
    "o_\\text{next} &=  \\frac{f_{\\text{next},a}}{l_{\\text{next}}} \\cdot c + \\frac{f_{\\text{next},b}}{l_{\\text{next}}} \\cdot d \\\\\n",
    "&=  \\frac{\\exp(a - m_\\text{next})}{l_\\text{next}} \\cdot c + \\frac{\\exp(b - m_\\text{next})}{l_\\text{next}} \\cdot d \\\\\n",
    "&=  \\frac{\\exp(a - m_\\text{curr})}{l_\\text{next}} \\cdot c + \\frac{\\exp(b - m_\\text{curr})}{l_\\text{next}} \\cdot d\n",
    "\\end{align*}\n",
    "$$\n",
    "\n",
    "Notice that neither of the terms in the sum match something we have computed already. We'll have to correct both $o_\\text{prev}$ and $o_\\text{curr}$ to obtain the correct answer. Let's start with $o_\\text{prev}$.\n",
    "\n",
    "$$\n",
    "\\begin{align*}\n",
    "o_\\text{prev} &= \\frac{f_\\text{prev}}{l_\\text{prev}} \\cdot c \\\\\n",
    "&= \\frac{\\exp(a - m_\\text{prev})}{l_\\text{prev}} \\cdot c\n",
    "\\end{align*}\n",
    "$$\n",
    "\n",
    "Multiplying $o_\\text{prev}$ by $l_\\text{prev}\\exp(m_\\text{prev} - m_\\text{curr}) / l_\\text{next}$ we get:\n",
    "$$\n",
    "\\begin{align}\n",
    "\\frac{l_\\text{prev}\\exp(m_\\text{prev} - m_\\text{curr})}{l_\\text{next}} o_\\text{prev}\n",
    "&= \\frac{l_\\text{prev}\\exp(m_\\text{prev} - m_\\text{curr})}{l_\\text{next}}  \\frac{\\exp(a - m_\\text{prev})}{l_\\text{prev}} \\cdot c\\\\\n",
    "&= \\frac{\\exp(a - m_\\text{curr})}{l_\\text{next}}  \\cdot c\\\\\n",
    "\\end{align}\n",
    "$$,\n",
    "making the terms match.  Notice also this correction is equal to $\\frac{l_\\text{prev}}{l_\\text{next}} \\alpha$.\n",
    "\n",
    "Let's now correct $o_\\text{curr}$. Remember that :\n",
    "\n",
    "$$\n",
    "\\begin{align*}\n",
    "o_\\text{curr} &= \\frac{f_\\text{curr}}{l_\\text{curr}} \\cdot d \\\\\n",
    "&= \\frac{\\exp(b - m_\\text{curr})}{l_\\text{curr}} \\cdot d\n",
    "\\end{align*}\n",
    "$$\n",
    "\n",
    "Multiplying $o_\\text{curr}$ by $l_\\text{curr} / l_\\text{next}$ we get:\n",
    "$$\n",
    "\\begin{align}\n",
    "\\frac{l_\\text{curr}}{l_\\text{next}} \\frac{\\exp(b - m_\\text{curr})}{l_\\text{curr}} \\cdot d = \\frac{\\exp(b - m_\\text{curr})}{l_\\text{next}} \\cdot d\n",
    "\\end{align}\n",
    "$$\n",
    "\n",
    "Therefore, we set:\n",
    "$$\n",
    "\\begin{align*}\n",
    "o_\\text{next} &= \\frac{l_\\text{prev}}{l_\\text{next}} \\alpha o_\\text{prev} + \\frac{l_\\text{curr}}{l_\\text{next}}o_\\text{curr} \\\\\n",
    "&= \\frac{1}{l_\\text{next}}\\left(l_\\text{prev} \\alpha o_\\text{prev} + l_\\text{curr}o_\\text{curr}\\right) \\\\\n",
    "\\end{align*}\n",
    "$$\n",
    "\n",
    "##### Case 2: $m_\\text{curr} \\leq m_\\text{prev}$ (a.k.a. we keep our old maximum).\n",
    "\n",
    "Ideally we want\n",
    "$$\n",
    "\\begin{align*}\n",
    "o_\\text{next} &=  \\frac{f_{\\text{next},a}}{l_{\\text{next}}} \\cdot c + \\frac{f_{\\text{next},b}}{l_{\\text{next}}} \\cdot d \\\\\n",
    "&=  \\frac{\\exp(a - m_\\text{next})}{l_\\text{next}} \\cdot c + \\frac{\\exp(b - m_\\text{next})}{l_\\text{next}} \\cdot d \\\\\n",
    "&=  \\frac{\\exp(a - m_\\text{prev})}{l_\\text{next}} \\cdot c + \\frac{\\exp(b - m_\\text{prev})}{l_\\text{next}} \\cdot d\n",
    "\\end{align*}\n",
    "$$\n",
    "\n",
    "Notice that neither of the terms in the sum match something we have computed already. We'll have to correct both $o_\\text{prev}$ and $o_\\text{curr}$ to obtain the correct answer. Let's start with $o_\\text{prev}$.\n",
    "\n",
    "$$\n",
    "\\begin{align*}\n",
    "o_\\text{prev} &= \\frac{f_\\text{prev}}{l_\\text{prev}} \\cdot c \\\\\n",
    "&= \\frac{\\exp(a - m_\\text{prev})}{l_\\text{prev}} \\cdot c\n",
    "\\end{align*}\n",
    "$$\n",
    "\n",
    "Multiplying $o_\\text{prev}$ by $l_\\text{prev} / l_\\text{next}$ we get:\n",
    "$$\n",
    "\\begin{align}\n",
    "\\frac{l_\\text{prev}}{l_\\text{next}} o_\\text{prev}\n",
    "&= \\frac{l_\\text{prev}}{l_\\text{next}}  \\frac{\\exp(a - m_\\text{prev})}{l_\\text{prev}} \\cdot c\\\\\n",
    "&= \\frac{\\exp(a - m_\\text{prev})}{l_\\text{next}}  \\cdot c\\\\\n",
    "\\end{align}\n",
    "$$,\n",
    "making the terms match.\n",
    "\n",
    "Let's now correct $o_\\text{curr}$. Remember that:\n",
    "\n",
    "$$\n",
    "\\begin{align*}\n",
    "o_\\text{curr} &= \\frac{f_\\text{curr}}{l_\\text{curr}} \\cdot d \\\\\n",
    "&= \\frac{\\exp(b - m_\\text{curr})}{l_\\text{curr}} \\cdot d\n",
    "\\end{align*}\n",
    "$$\n",
    "\n",
    "Multiplying $o_\\text{curr}$ by $l_\\text{curr}\\exp(m_\\text{curr} - m_\\text{prev}) / l_\\text{next}$ we get:\n",
    "$$\n",
    "\\begin{align}\n",
    "\\frac{l_\\text{curr}\\exp(m_\\text{curr}-  m_\\text{prev})}{l_\\text{next}} \\frac{\\exp(b - m_\\text{curr})}{l_\\text{curr}} \\cdot d = \\frac{\\exp(b - m_\\text{prev})}{l_\\text{next}} \\cdot d\n",
    "\\end{align}\n",
    "$$\n",
    "\n",
    "Notice that this correction is equal to $\\frac{l_\\text{curr}}{l_\\text{next}} \\beta$.\n",
    "\n",
    "Therefore, we set:\n",
    "$$\n",
    "\\begin{align*}\n",
    "o_\\text{next} &= \\frac{l_\\text{prev}}{l_\\text{next}} o_\\text{prev} + \\frac{l_\\text{curr}}{l_\\text{next}}\\beta o_\\text{curr} \\\\\n",
    "&= \\frac{1}{l_\\text{next}}\\left(l_\\text{prev} o_\\text{prev} + l_\\text{curr}\\beta o_\\text{curr}\\right)\n",
    "\\end{align*}\n",
    "$$\n",
    "\n",
    "Unifying both sides of the conditional, we get the final update:\n",
    "\n",
    "$$\n",
    "\\begin{align}\n",
    "o_\\text{next} &\\triangleq \\frac{1}{l_\\text{next}}\\left(l_\\text{prev} \\alpha o_\\text{prev} + l_\\text{curr}\\beta o_\\text{curr}\\right)\n",
    "\\end{align}\n",
    "$$"
   ]
  },
  {
   "cell_type": "markdown",
   "metadata": {
    "id": "vseyzYjqrR53"
   },
   "source": [
    "## Final flash attention equations and implementation"
   ]
  },
  {
   "cell_type": "markdown",
   "metadata": {
    "id": "a9b9po7DrOCI"
   },
   "source": [
    "Putting everything together:\n",
    "\n",
    "\\begin{align}\n",
    "m_\\text{curr} &\\triangleq \\max_i b_i \\\\\n",
    "f_\\text{curr} &\\triangleq \\exp (b - m_\\text{curr}) \\\\\n",
    "l_\\text{curr} &\\triangleq \\sum_i f_{\\text{curr},i} \\\\\n",
    "o_\\text{curr} &\\triangleq \\frac{f_\\text{curr}}{l_\\text{curr}} \\cdot d\n",
    "\\end{align}\n",
    "\n",
    "$$\n",
    "\\begin{align}\n",
    "m_\\text{next} &\\triangleq \\max(m_\\text{prev}, m_\\text{curr}) \\\\\n",
    "\\alpha &\\triangleq \\exp (m_\\text{prev} - m_\\text{next}) \\\\\n",
    "\\beta &\\triangleq \\exp (m_\\text{curr} - m_\\text{next}) \\\\\n",
    "f_\\text{next} &\\triangleq [\\alpha f_\\text{prev}; \\beta f_\\text{curr}] \\\\\n",
    "l_\\text{next} &\\triangleq \\alpha l_\\text{prev} + \\beta l_\\text{curr} \\\\\n",
    "o_\\text{next} &\\triangleq \\frac{1}{l_\\text{next}}\\left(l_\\text{prev} \\alpha o_\\text{prev} + l_\\text{curr}\\beta o_\\text{curr}\\right)\n",
    "\\end{align}\n",
    "$$\n",
    "\n",
    "Let's try the JAX version."
   ]
  },
  {
   "cell_type": "code",
   "execution_count": null,
   "metadata": {
    "id": "yvtE0TRBima5"
   },
   "outputs": [],
   "source": [
    "def flash_attention_jax(q, k, v, *, chunk_size: int = 128):\n",
    "  assert q.shape[0] % chunk_size == 0\n",
    "  seq_len, head_dim = q.shape\n",
    "\n",
    "  output = jnp.zeros_like(q)\n",
    "\n",
    "  for q_index in range(seq_len // chunk_size):\n",
    "    q_slice = slice(q_index * chunk_size, (q_index + 1) * chunk_size)\n",
    "    q_chunk = q[q_slice]\n",
    "\n",
    "    m_prev = jnp.full(chunk_size, -jnp.inf, dtype=jnp.float32)\n",
    "    l_prev = jnp.zeros(chunk_size, dtype=jnp.float32)\n",
    "    o_prev = jnp.zeros((chunk_size, head_dim), dtype=jnp.float32)\n",
    "\n",
    "    for kv_index in range(seq_len // chunk_size):\n",
    "      kv_slice = slice(kv_index * chunk_size, (kv_index + 1) * chunk_size)\n",
    "      k_chunk = k[kv_slice]\n",
    "      # compute logits\n",
    "      logits = jnp.einsum('sd,td->st', q_chunk, k_chunk) / jnp.sqrt(\n",
    "          q_chunk.shape[1]\n",
    "      )\n",
    "\n",
    "      # compute terms for current chunk\n",
    "      m_curr = logits.max(axis=-1)\n",
    "      f_curr = jnp.exp(logits - m_curr[:, None])\n",
    "      l_curr = f_curr.sum(axis=-1)\n",
    "      v_chunk = v[kv_slice]\n",
    "      o_curr = jnp.einsum('st,td->sd', f_curr / l_curr[:, None], v_chunk)\n",
    "\n",
    "      # compute updated terms with corrections\n",
    "      m_next = jnp.maximum(m_prev, m_curr)\n",
    "      alpha = jnp.exp(m_prev - m_next)\n",
    "      beta = jnp.exp(m_curr - m_next)\n",
    "      l_next = alpha * l_prev + beta * l_curr\n",
    "      o_next = (\n",
    "          1\n",
    "          / l_next[:, None]\n",
    "          * (\n",
    "              (l_prev * alpha)[:, None] * o_prev\n",
    "              + (l_curr * beta)[:, None] * o_curr\n",
    "          )\n",
    "      )\n",
    "      m_prev, l_prev, o_prev = m_next, l_next, o_next\n",
    "    output = output.at[q_slice].set(o_prev)\n",
    "  return output\n",
    "\n",
    "\n",
    "q = jax.random.normal(jax.random.key(0), (1024, 256), jnp.float32)\n",
    "k = jax.random.normal(jax.random.key(0), (1024, 256), jnp.float32)\n",
    "v = jax.random.normal(jax.random.key(0), (1024, 256), jnp.float32)\n",
    "np.testing.assert_allclose(\n",
    "    flash_attention_jax(q, k, v), attention(q, k, v), atol=1e-2, rtol=1e-2\n",
    ")"
   ]
  },
  {
   "cell_type": "markdown",
   "metadata": {
    "id": "TG8ouE4vvZyD"
   },
   "source": [
    "Note the increased tolerances on our results check. **Flash attention is a numerics-changing optimization**, so it is always good to validate its results in practice."
   ]
  },
  {
   "cell_type": "markdown",
   "metadata": {
    "id": "9BSkntRsvll0"
   },
   "source": [
    "## Conclusion"
   ]
  },
  {
   "cell_type": "markdown",
   "metadata": {
    "id": "elCU5dt6walT"
   },
   "source": [
    "In this guide we covered why attention is hard to fuse in general, how to express softmax in a chunked, online fashion, and how to generalize that strategy to compute attention. We completed the guide with a simple JAX implementation of flash attention that we'll use as our basis of writing our flash attention kernel. In a future guide, we will also cover the math of the backward pass of flash attention.\n",
    "\n",
    "Exercises for the reader:\n",
    "* We implemented flash attention in such a way that leaves some performance on the table. Can you optimize the softmax corrections to avoid as many operations?\n",
    "* It's common in practice to use \"causal\" attention, where each `q` will not attend to `k`s and `v`s ahead of it in the sequence dimension. Try adding that variant to our JAX implementation.\n",
    "* Try running ahead and implement a basic version of the kernel, you should have the tools!"
   ]
  }
 ],
 "metadata": {
  "colab": {
   "last_runtime": {
    "build_target": "//third_party/py/jax_triton/google/pallas_tpu:notebook",
    "kind": "private"
   },
   "provenance": [],
   "toc_visible": true
  },
  "jupytext": {
   "formats": "ipynb,md:myst"
  },
  "kernelspec": {
   "display_name": "Python 3",
   "name": "python3"
  },
  "language_info": {
   "name": "python"
  }
 },
 "nbformat": 4,
 "nbformat_minor": 0
}
