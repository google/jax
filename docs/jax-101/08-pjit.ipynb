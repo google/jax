{
 "cells": [
  {
   "cell_type": "markdown",
   "id": "800c6ef6",
   "metadata": {
    "id": "BmtpaCzZBT7U"
   },
   "source": [
    "# Introduction to pjit\n",
    "\n",
    "This guide explains how to use pjit to compile and automatically partition functions in both single and multi-host environments. `pjit` is `jit` with `in_axis_resources` and `out_axis_resources` to specify how a function should be partitioned. `pjit` can be useful when the jitted version of `fun` would not fit in a single device’s memory, or to speed up `fun` by running each operation in parallel across multiple devices. `pjit` enables users to shard computations without rewriting using the SPMD partitioner. The returned function has semantics equivalent to those of `fun`, but is compiled to an XLA computation that runs across multiple devices (e.g. multiple GPUs or multiple TPU cores). \n",
    "\n",
    "```python\n",
    "jax.experimental.pjit.pjit(fun, in_axis_resources, out_axis_resources, static_argnums=(), donate_argnums=())\n",
    "```\n",
    "\n",
    "Two examples are shown in this guide to demonstrate how `pjit` works in both single and multi-host environments. The identity function (`lambda x: x`) is chosen to better show how other input parameters are used."
   ]
  },
  {
   "cell_type": "markdown",
   "id": "71f59214",
   "metadata": {
    "id": "hATDpVCRBuXg"
   },
   "source": [
    "## Background \n",
    "The core infrastructure that supports parallel model training is the XLA SPMD partitioner. It takes in an XLA program that represents the complete neural net, as if there is only one giant virtual device. In addition to the program, it also takes in partitioning specifications for both function inputs and outputs. The output of the XLA SPMD partitioner is an identical program for N devices that performs communications between devices through collective operations. The program only compiles once per host. **`pjit` is the API exposed for the XLA SPMD partitioner in JAX.**"
   ]
  },
  {
   "cell_type": "markdown",
   "id": "afedcd41",
   "metadata": {
    "id": "qF01HxLwC-s0"
   },
   "source": [
    "![spmd](../_static/xla_spmd.jpg)"
   ]
  },
  {
   "cell_type": "markdown",
   "id": "45c5cf4f",
   "metadata": {
    "id": "PNP-0AH-Bz48"
   },
   "source": [
    "## How it works:\n",
    "The partitioning over devices happens automatically based on the propagation of the input partitioning specified in `in_axis_resources` and the output partitioning specified in `out_axis_resources`. The resources specified in those two arguments must refer to `mesh axes`, as defined by the `jax.experimental.maps.Mesh()` context manager. Note that the `Mesh` definition at `pjit` application time is ignored, and the returned function will use the `Mesh` definition available at each call site.\n",
    "\n",
    "Inputs to a `pjit`ted function will be automatically partitioned across devices if they’re not already correctly partitioned based on `in_axis_resources`. In some scenarios, ensuring that the inputs are already correctly pre-partitioned can increase performance. For example, if passing the output of one pjit’d function to another `pjit`ted function (or the same pjit’d function in a loop), make sure the relevant `out_axis_resources` match the corresponding `in_axis_resources`."
   ]
  },
  {
   "cell_type": "markdown",
   "id": "36b91461",
   "metadata": {
    "id": "iZNcsMjoHRtj"
   },
   "source": [
    "## Single Host Example"
   ]
  },
  {
   "cell_type": "markdown",
   "id": "e3c3dca0",
   "metadata": {
    "id": "ej2PCAVGHcIU"
   },
   "source": [
    "In this example, we have \n",
    "- `mesh`: a mesh of shape (4, 2) and axes named 'x' and 'y' respectively. \n",
    "- `input data`: an 8 by 2 numpy array. \n",
    "- `in_axis_resources`: None. So the (8, 2) input data is replicated across all devices.\n",
    "- `out_axis_resources`: `PartitionSpec('x', 'y')`. It specifies that the two dimensions of output data are sharded over 'x' and 'y' respectively. \n",
    "- `function`: `lambda x: x`. It is the identity function.\n",
    "\n",
    "As a result, the `pjit`ted function applied with the given mesh replicates the input across all devices based on `in_axis_resources`, and then keeps only what each device should have based on `out_axis_resources`. It effectively shards the data on CPU across all accelerators according to the `PartitionSpec`. \n",
    "\n",
    "Each parameter is explained in detail below:"
   ]
  },
  {
   "cell_type": "markdown",
   "id": "550fc9a9",
   "metadata": {
    "id": "S4PO128OIg1p"
   },
   "source": [
    "### Setup"
   ]
  },
  {
   "cell_type": "markdown",
   "id": "8f5b5005",
   "metadata": {
    "id": "JIofdJEodwd1"
   },
   "source": [
    "This tutorial should be run on TPU with 8 devices. Please [build your own runtime](https://cloud.google.com/tpu/docs/jax-pods) on Google Cloud Platform and [connects to it using Jupyter](https://research.google.com/colaboratory/local-runtimes.html)."
   ]
  },
  {
   "cell_type": "code",
   "execution_count": null,
   "id": "d0351a2d",
   "metadata": {
    "executionInfo": {
     "elapsed": 1413,
     "status": "ok",
     "timestamp": 1630522179190,
     "user": {
      "displayName": "Tina Jia",
      "photoUrl": "https://lh3.googleusercontent.com/a-/AOh14GgXfNqufLfWAnNdfo39ijAImYD6M7w-Kcd8_eLdSw=s64",
      "userId": "14134751146587731278"
     },
     "user_tz": 360
    },
    "id": "6z5RePsaC93O"
   },
   "outputs": [],
   "source": [
    "import jax\n",
    "from jax.experimental import maps\n",
    "from jax.experimental import PartitionSpec\n",
    "from jax.experimental.pjit import pjit\n",
    "import numpy as np"
   ]
  },
  {
   "cell_type": "markdown",
   "id": "14333064",
   "metadata": {
    "id": "quolviRCIoZG"
   },
   "source": [
    "### Mesh\n",
    "The mesh is defined in [jax/interpreters/pxla](https://github.com/google/jax/blob/main/jax/interpreters/pxla.py#L1389): It is a NumPy array of JAX devices in a multi-dimensional grid, alongside names for the axes of this mesh. It is also called the logical mesh."
   ]
  },
  {
   "cell_type": "markdown",
   "id": "3351a528",
   "metadata": {
    "id": "V3Vnmcb7Jq1L"
   },
   "source": [
    "In the example we are working with, the first (vertical) axis is named ‘x’ and has length 4, and the second (horizontal) axis is named ‘y’ and has length 2. If a dimension of data is sharded across an axis, each device has a slice of the size of `data.shape[dim]` divided by `mesh_shape[axis]`. If data is replicated across an axis, devices on that axis should have the same data."
   ]
  },
  {
   "cell_type": "code",
   "execution_count": null,
   "id": "0c8110e6",
   "metadata": {
    "executionInfo": {
     "elapsed": 5274,
     "status": "ok",
     "timestamp": 1630522184517,
     "user": {
      "displayName": "Tina Jia",
      "photoUrl": "https://lh3.googleusercontent.com/a-/AOh14GgXfNqufLfWAnNdfo39ijAImYD6M7w-Kcd8_eLdSw=s64",
      "userId": "14134751146587731278"
     },
     "user_tz": 360
    },
    "id": "c5Yi57UsIt-x",
    "outputId": "c0f12f8b-c5b8-4f2b-b8f7-97628add3356"
   },
   "outputs": [],
   "source": [
    "mesh_shape = (4, 2)\n",
    "devices = np.asarray(jax.devices()).reshape(*mesh_shape)\n",
    "# 'x', 'y' axis names are used here for simplicity\n",
    "mesh = maps.Mesh(devices, ('x', 'y'))\n",
    "mesh"
   ]
  },
  {
   "cell_type": "markdown",
   "id": "9d2b8be0",
   "metadata": {
    "id": "GinMJ1kF7pat"
   },
   "source": [
    "The actual TPU physical device mesh are connected by Inter-chip Interconnect (ICI) fabric. The logical mesh with given axis names is created to abstract the physical device mesh because it is easier to reshape the logical mesh based on distributed computation needs. The layout of the logical mesh is different from that of the physical mesh.\n",
    "\n",
    "For example, we can have a physical mesh of size (4, 4, 4). If the computation requires a 16-way data parallelism and 4-way model parallelism, the physical mesh should be abstracted to a logical mesh with a shape of (16, 4)."
   ]
  },
  {
   "cell_type": "markdown",
   "id": "80ae53be",
   "metadata": {
    "id": "-EBn4AXojvbe"
   },
   "source": [
    "![spmd](../_static/mesh.jpg)"
   ]
  },
  {
   "cell_type": "markdown",
   "id": "18a1c23b",
   "metadata": {
    "id": "JGNV0XCJKPlN"
   },
   "source": [
    "### Input Data\n",
    "A NumPy array of size (8,2)"
   ]
  },
  {
   "cell_type": "code",
   "execution_count": null,
   "id": "a6f791c3",
   "metadata": {
    "executionInfo": {
     "elapsed": 5,
     "status": "ok",
     "timestamp": 1630522184595,
     "user": {
      "displayName": "Tina Jia",
      "photoUrl": "https://lh3.googleusercontent.com/a-/AOh14GgXfNqufLfWAnNdfo39ijAImYD6M7w-Kcd8_eLdSw=s64",
      "userId": "14134751146587731278"
     },
     "user_tz": 360
    },
    "id": "q8fi-h6hIv6L",
    "outputId": "f448aa10-7ff2-411d-caba-1fc5d55b1fc1"
   },
   "outputs": [],
   "source": [
    "input_data = np.arange(8 * 2).reshape(8, 2)\n",
    "input_data"
   ]
  },
  {
   "cell_type": "markdown",
   "id": "2d3c74a1",
   "metadata": {
    "id": "IzM6BGB2KhOK"
   },
   "source": [
    "### in_axis_resources & out_axis_resources\n",
    "Pytree of structure matching that of arguments to fun, with all actual arguments replaced by resource assignment specifications. It is also valid to specify a pytree prefix (e.g. one value in place of a whole subtree), in which case the leaves get broadcast to all values in that subtree.\n",
    "\n",
    "The valid resource assignment specifications are:\n",
    "- `None`, in which case the value will be replicated on all devices \n",
    "- `PartitionSpec`, a tuple of length at most equal to the rank of the partitioned value. Each element can be a None, a mesh axis or a tuple of mesh axes, and specifies the set of resources assigned to partition the value’s dimension matching its position in the spec. More details are discussed in the section below (More information on PartitionSpec). \n",
    "\n",
    "The size of every dimension has to be a multiple of the total number of resources assigned to it.\n",
    "\n",
    "`out_axis_resources` is like `in_axis_resources`, but specifies resource assignment for function outputs."
   ]
  },
  {
   "cell_type": "code",
   "execution_count": null,
   "id": "16ca41e1",
   "metadata": {
    "executionInfo": {
     "elapsed": 23,
     "status": "ok",
     "timestamp": 1630522184674,
     "user": {
      "displayName": "Tina Jia",
      "photoUrl": "https://lh3.googleusercontent.com/a-/AOh14GgXfNqufLfWAnNdfo39ijAImYD6M7w-Kcd8_eLdSw=s64",
      "userId": "14134751146587731278"
     },
     "user_tz": 360
    },
    "id": "BqyXld4aKcbi"
   },
   "outputs": [],
   "source": [
    "in_axis_resources=None\n",
    "out_axis_resources=PartitionSpec('x', 'y')"
   ]
  },
  {
   "cell_type": "markdown",
   "id": "b052580d",
   "metadata": {
    "id": "6HbI_Y40MN4X"
   },
   "source": [
    "### Putting everything together"
   ]
  },
  {
   "cell_type": "code",
   "execution_count": null,
   "id": "2088ac4f",
   "metadata": {
    "executionInfo": {
     "elapsed": 352,
     "status": "ok",
     "timestamp": 1630522185196,
     "user": {
      "displayName": "Tina Jia",
      "photoUrl": "https://lh3.googleusercontent.com/a-/AOh14GgXfNqufLfWAnNdfo39ijAImYD6M7w-Kcd8_eLdSw=s64",
      "userId": "14134751146587731278"
     },
     "user_tz": 360
    },
    "id": "5Q8pU7AaMQf0",
    "outputId": "e8ac522e-e6d0-44e0-b7a2-24229073fcf7"
   },
   "outputs": [],
   "source": [
    "f = pjit(\n",
    "  lambda x: x,\n",
    "  in_axis_resources=None,\n",
    "  out_axis_resources=PartitionSpec('x', 'y'))\n",
    " \n",
    "# Sends data to accelerators based on partition_spec\n",
    "with maps.Mesh(mesh.devices, mesh.axis_names):\n",
    " data = f(input_data)"
   ]
  },
  {
   "cell_type": "code",
   "execution_count": null,
   "id": "be954ad9",
   "metadata": {
    "executionInfo": {
     "elapsed": 61,
     "status": "ok",
     "timestamp": 1630522185310,
     "user": {
      "displayName": "Tina Jia",
      "photoUrl": "https://lh3.googleusercontent.com/a-/AOh14GgXfNqufLfWAnNdfo39ijAImYD6M7w-Kcd8_eLdSw=s64",
      "userId": "14134751146587731278"
     },
     "user_tz": 360
    },
    "id": "pyw91mLZMVQN",
    "outputId": "3fa304be-215b-4f94-b7fd-4599c2c15fc7"
   },
   "outputs": [],
   "source": [
    "data"
   ]
  },
  {
   "cell_type": "code",
   "execution_count": null,
   "id": "02b38797",
   "metadata": {
    "executionInfo": {
     "elapsed": 55,
     "status": "ok",
     "timestamp": 1630522185449,
     "user": {
      "displayName": "Tina Jia",
      "photoUrl": "https://lh3.googleusercontent.com/a-/AOh14GgXfNqufLfWAnNdfo39ijAImYD6M7w-Kcd8_eLdSw=s64",
      "userId": "14134751146587731278"
     },
     "user_tz": 360
    },
    "id": "qnVf_OIoMTXz",
    "outputId": "b1400c97-ef53-4109-f30a-de33148d0189"
   },
   "outputs": [],
   "source": [
    "data.device_buffers"
   ]
  },
  {
   "cell_type": "markdown",
   "id": "3cb49674",
   "metadata": {
    "id": "LgZbCPrrMg54"
   },
   "source": [
    "The result after applying the `pjit`ted function is a `ShardedDeviceArray`, and `device_buffers` shows what data each device has."
   ]
  },
  {
   "cell_type": "markdown",
   "id": "26682f8a",
   "metadata": {
    "id": "qSQhEouSMjV2"
   },
   "source": [
    "**Result visualization:** \n",
    "Each color represents a different device. Since an (8,2) array is partitioned across a (4,2) mesh in both ‘x’ and ‘y’ axes, each accelerator ends up with a (2,1) slice of the data."
   ]
  },
  {
   "cell_type": "markdown",
   "id": "f8e1535d",
   "metadata": {
    "id": "NQSi0q8cMlj8"
   },
   "source": [
    "![spmd](../_static/partition_spec_x_y.png)"
   ]
  },
  {
   "cell_type": "markdown",
   "id": "5dba7e81",
   "metadata": {
    "id": "mDkB4FNBK9ct"
   },
   "source": [
    "### More information on PartitionSpec:\n",
    "\n",
    "`PartitionSpec` is a named tuple, whose element can be a `None`, a mesh axis or a tuple of mesh axes. Each element describes which mesh dimension the input’s dimension is partitioned across. For example, `PartitionSpec('x', 'y')` is a PartitionSpec where the first dimension of data is sharded across 'x' axis of the mesh, and the second dimension is sharded across 'y' axis of the mesh."
   ]
  },
  {
   "cell_type": "markdown",
   "id": "8c4e9e5e",
   "metadata": {
    "id": "lciyhDKOyvqr"
   },
   "source": [
    "**Examples of other possible PartitionSpecs:**\n",
    "\n",
    "Reminder: mesh is of shape (4, 2), input data is of shape (8, 2).\n",
    "\n",
    "### **- `PartitionSpec('x', None)`**"
   ]
  },
  {
   "cell_type": "code",
   "execution_count": null,
   "id": "81906ca1",
   "metadata": {
    "executionInfo": {
     "elapsed": 55,
     "status": "ok",
     "timestamp": 1630522185565,
     "user": {
      "displayName": "Tina Jia",
      "photoUrl": "https://lh3.googleusercontent.com/a-/AOh14GgXfNqufLfWAnNdfo39ijAImYD6M7w-Kcd8_eLdSw=s64",
      "userId": "14134751146587731278"
     },
     "user_tz": 360
    },
    "id": "oGT68Er2ye0Y",
    "outputId": "5e46b0ac-3534-4990-e245-7ff80022ff8f"
   },
   "outputs": [],
   "source": [
    "f = pjit(\n",
    "  lambda x: x,\n",
    "  in_axis_resources=None,\n",
    "  out_axis_resources=PartitionSpec('x', None))\n",
    " \n",
    "with maps.Mesh(mesh.devices, mesh.axis_names):\n",
    " data = f(input_data)\n",
    "\n",
    "data.device_buffers"
   ]
  },
  {
   "cell_type": "markdown",
   "id": "d14f49e6",
   "metadata": {
    "id": "Tr7KUJpIL026"
   },
   "source": [
    "The first dimension of the input is sharded across 'x' axis and the other dimensions are replicated across other axes. `None` can also be omitted in the PartitionSpec. If `out_axis_resources = PartitionSpec('x', None)` in the example above, the result visualization will be the following:\n",
    "\n",
    "![spmd](../_static/partition_spec_x_none.png)"
   ]
  },
  {
   "cell_type": "markdown",
   "id": "9e52e3b5",
   "metadata": {
    "id": "EwN6tPSLy9Tz"
   },
   "source": [
    "### **- `PartitionSpec('y', None)`**"
   ]
  },
  {
   "cell_type": "code",
   "execution_count": null,
   "id": "292620b9",
   "metadata": {
    "executionInfo": {
     "elapsed": 56,
     "status": "ok",
     "timestamp": 1630522185672,
     "user": {
      "displayName": "Tina Jia",
      "photoUrl": "https://lh3.googleusercontent.com/a-/AOh14GgXfNqufLfWAnNdfo39ijAImYD6M7w-Kcd8_eLdSw=s64",
      "userId": "14134751146587731278"
     },
     "user_tz": 360
    },
    "id": "gpbaqxsAy5h-",
    "outputId": "48bfcd07-7235-46f9-c59f-47d2f1986577"
   },
   "outputs": [],
   "source": [
    "f = pjit(\n",
    "  lambda x: x,\n",
    "  in_axis_resources=None,\n",
    "  out_axis_resources=PartitionSpec('y', None))\n",
    " \n",
    "with maps.Mesh(mesh.devices, mesh.axis_names):\n",
    " data = f(input_data)\n",
    "\n",
    "data.device_buffers"
   ]
  },
  {
   "cell_type": "markdown",
   "id": "12ea9cd0",
   "metadata": {
    "id": "qui5GaSjYX1V"
   },
   "source": [
    "the first dimension of the input is sharded across `y` axis and the other dimensions are replicated across other axes. If `out_axis_resources = PartitionSpec(“y”, None)` in the example above, the result visualization will be the following: \n",
    "\n",
    "![spmd](../_static/partition_spec_y_none.png)"
   ]
  },
  {
   "cell_type": "markdown",
   "id": "4f12be73",
   "metadata": {
    "id": "E2pbgVJazQfJ"
   },
   "source": [
    "### **- `PartitionSpec((“x”, “y”), None)`**"
   ]
  },
  {
   "cell_type": "code",
   "execution_count": null,
   "id": "c93e733e",
   "metadata": {
    "executionInfo": {
     "elapsed": 57,
     "status": "ok",
     "timestamp": 1630522185793,
     "user": {
      "displayName": "Tina Jia",
      "photoUrl": "https://lh3.googleusercontent.com/a-/AOh14GgXfNqufLfWAnNdfo39ijAImYD6M7w-Kcd8_eLdSw=s64",
      "userId": "14134751146587731278"
     },
     "user_tz": 360
    },
    "id": "qYBDV0VKzTVp",
    "outputId": "d9ad5182-3ceb-403e-8b01-d03c09ff9343"
   },
   "outputs": [],
   "source": [
    "f = pjit(\n",
    "  lambda x: x,\n",
    "  in_axis_resources=None,\n",
    "  out_axis_resources=PartitionSpec(('x', 'y'), None))\n",
    " \n",
    "with maps.Mesh(mesh.devices, mesh.axis_names):\n",
    " data = f(input_data)\n",
    "\n",
    "data.device_buffers"
   ]
  },
  {
   "cell_type": "markdown",
   "id": "e575b8fa",
   "metadata": {
    "id": "N0WBRBOmZQI2"
   },
   "source": [
    "the first dimension of the input is sharded across both 'x' and 'y' axes and the other dimensions are replicated across other axes. We can think of this as stretching the 2D mesh into an 1D mesh and then do the partition. If `out_axis_resources = PartitionSpec(('x', 'y'), None)` in the example above, the result visualization will be the following: \n",
    "\n",
    "![spmd](../_static/partition_spec_xy.png)"
   ]
  },
  {
   "cell_type": "markdown",
   "id": "4e7c85a7",
   "metadata": {
    "id": "d_Vdh_yh3XhP"
   },
   "source": [
    "### **- `PartitionSpec(None, 'y')`**"
   ]
  },
  {
   "cell_type": "code",
   "execution_count": null,
   "id": "9b59770d",
   "metadata": {
    "executionInfo": {
     "elapsed": 53,
     "status": "ok",
     "timestamp": 1630522185897,
     "user": {
      "displayName": "Tina Jia",
      "photoUrl": "https://lh3.googleusercontent.com/a-/AOh14GgXfNqufLfWAnNdfo39ijAImYD6M7w-Kcd8_eLdSw=s64",
      "userId": "14134751146587731278"
     },
     "user_tz": 360
    },
    "id": "2iq22gE53LD4",
    "outputId": "2c0c63f0-3970-48e4-8ffa-ee4e7360e570"
   },
   "outputs": [],
   "source": [
    "f = pjit(\n",
    "  lambda x: x,\n",
    "  in_axis_resources=None,\n",
    "  out_axis_resources=PartitionSpec(None, 'y'))\n",
    " \n",
    "with maps.Mesh(mesh.devices, mesh.axis_names):\n",
    " data = f(input_data)\n",
    "\n",
    "data.device_buffers"
   ]
  },
  {
   "cell_type": "markdown",
   "id": "d266601c",
   "metadata": {
    "id": "siqNb-an3eUd"
   },
   "source": [
    "the second dimension of the input is sharded over y axis and the first dimensions is replicated across other axes. We can think of this as stretching the 2D mesh into an 1D mesh and then do the partition. If `out_axis_resources = PartitionSpec(None, 'y')` in the example above, the result visualization will be the following:\n",
    "\n",
    "![spmd](../_static/partition_spec_none_y.png)"
   ]
  },
  {
   "cell_type": "markdown",
   "id": "49f4be62",
   "metadata": {
    "id": "bILc3_4w3ueA"
   },
   "source": [
    "### **- `PartitionSpec(None, 'x')`**"
   ]
  },
  {
   "cell_type": "markdown",
   "id": "b2f55aa3",
   "metadata": {
    "id": "NjPu86IE34Xk"
   },
   "source": [
    "`pjit` will complain when `out_axis_resources` is set to be `PartitionSpec(None, 'x')`. This is because the second dimension of input data is of size 2, but mesh's 'x' dimension has size 4. size 2 can not be sharded over size 4. It is important to note that the size of input data has to be divisible by the size of mesh on corresponding dimensions."
   ]
  },
  {
   "cell_type": "markdown",
   "id": "8577f3d2",
   "metadata": {
    "id": "0iQTcTM-aCkK"
   },
   "source": [
    "## Multiple Host Example"
   ]
  },
  {
   "cell_type": "markdown",
   "id": "b1765c7a",
   "metadata": {
    "id": "mP7VeBP0aeNN"
   },
   "source": [
    "The following example is run in parallel on each host in a Cloud TPU v3-32 pod slice (4 hosts 32 devices). ([Set up instruction here](https://cloud.google.com/tpu/docs/jax-pods))\n",
    "\n",
    "In this example, we have \n",
    "\n",
    "- `mesh`: a mesh of shape (16, 2) and axes named ‘x’ and ‘y’ respectively. \n",
    "- `input data`: Each host contains a quarter (8, 2) of the input data of size (32, 2).\n",
    "- `in_axis_resources`: `PartitionSpec(('x', 'y'),)`. This lets `pjit` know that the (32, 2) input data is already split evenly across hosts (done by user). \n",
    "- `out_axis_resources`: `PartitionSpec('x', 'y')`. It specifies that the two dimensions of output data are sharded over `x` and `y` respectively.\n",
    "- `function`: `lambda x: x`. It is the identity function.\n",
    "\n",
    "The `pjit`ted function applied with a given mesh distributes an even slice to each device. It effectively shards the data on hosts across all accelerators based on the `PartitionSpec`."
   ]
  },
  {
   "cell_type": "markdown",
   "id": "5a738c26",
   "metadata": {
    "id": "pinw32PtcD3W"
   },
   "source": [
    "### Setup\n",
    "```python\n",
    "import jax\n",
    "from jax.experimental import maps\n",
    "from jax.experimental import PartitionSpec\n",
    "from jax.experimental.pjit import pjit\n",
    "from jax.interpreters import pxla\n",
    "import numpy as np\n",
    "```"
   ]
  },
  {
   "cell_type": "markdown",
   "id": "f643f6d7",
   "metadata": {
    "id": "wRNv_eogcLaZ"
   },
   "source": [
    "### Mesh\n",
    "\n",
    "In this example, there are 4 hosts with 32 devices. These physical devices are abstracted to a logical mesh of size (16, 2). The first (vertical) axis is named ‘x’ and has length 16, and the second (horizontal) axis is named ‘y’ and has length 2. Within the global mesh, the first (4, 2) devices are connected to host 0, the second (4, 2) devices are connected to host 1. The first 8 devices (in the order of left to right, top to bottom) always belong to host 0, and the second 8 devices always belong to host 1 and so on. \n",
    "\n",
    "\n",
    "```python\n",
    "mesh_shape = (16, 2)\n",
    "devices = np.asarray(jax.devices()).reshape(*mesh_shape)\n",
    "mesh = maps.Mesh(devices, ('x', 'y'))\n",
    "```"
   ]
  },
  {
   "cell_type": "markdown",
   "id": "ae15ab25",
   "metadata": {
    "id": "UnUZlK_Ect1_"
   },
   "source": [
    "### Input data\n",
    "\n",
    "In a multi-host environment, all the devices connected to one host have to contain a subslice of a single continuous large slice of the data. In JAX SPMD, there are no direct communications between hosts, so hosts only talk to each other via collective communication between devices. As a result, users need to handle distributed data loading on hosts.\n",
    "\n",
    "In this example, the input array of size (32,2) is manually split into quarters of size (8,2) along the 'x' axis by user and assigned to each host.\n",
    "\n",
    "```python\n",
    "if jax.process_index() == 0:\n",
    " input_data = np.arange(0,16).reshape(8,2)\n",
    "elif jax.process_index() == 1:\n",
    " input_data = np.arange(16,32).reshape(8,2)\n",
    "elif jax.process_index() == 2:\n",
    " input_data = np.arange(32,48).reshape(8,2)\n",
    "else:\n",
    " input_data = np.arange(48,64).reshape(8,2)\n",
    "```\n",
    "\n",
    "`pjit` always assumes that the input is the local data chunk of a global array. If the local chunk it to be sharded over multiple local devices and is not partitioned as expected, pjit will put the right slices on the right **local devices** for you. Once all of the local chunks are on the devices on all the\n",
    "hosts, then XLA will run the computation.\n",
    "\n",
    "XLA operates on the global data so if `in_axis_resources` is different than `out_axis_resources` then XLA will do data redistribution cross-host. So global communication doesn't happen in preparation for the launch of the XLA executable that pjit represents, but only in the XLA executable itself.\n",
    "\n",
    "One way to do data redistribution cross-host is to use an identity `pjit` with `in_axis_resources` different from `out_axis_resources`. XLA will do the global data reordering for you via `pjit`."
   ]
  },
  {
   "cell_type": "markdown",
   "id": "65652d1c",
   "metadata": {
    "id": "gTS_bgtkdch1"
   },
   "source": [
    "### in_axis_resources & out_axis_resources\n",
    "\n",
    "- `in_axis_resources`: `PartitionSpec(('x', 'y'),)`. This partitions the first dimension of input data over both 'x' and 'y' axes. Since input argument dimensions partitioned over multi-process mesh axes should be of size equal to the corresponding local mesh axis size, pjit sends the (8, 2) on each host to its devices based on `in_axis_resources`. Since each host has a logical mesh of size (4, 2) within the entire logical mesh, each device has a (1, 2) slice.\n",
    "- `out_axis_resources`: `PartitionSpec('x', 'y')`. It specifies that the two dimensions of output data are sharded over 'x' and 'y' respectively, so each device gets a (2,1) slice. \n",
    "\n",
    "**Note**: in_axis_resources and out_axis_resources are different. Here, in_axis_resources shards input data's first dimension over both 'x' and 'y', whereas out_axis_resources shards input data's first dimension only over 'x'."
   ]
  },
  {
   "cell_type": "markdown",
   "id": "e0fdb3bf",
   "metadata": {
    "id": "8b4kf6GtgPgD"
   },
   "source": [
    "### Putting everything together\n",
    "```python\n",
    "f = pjit(\n",
    "   lambda x: x,\n",
    "   in_axis_resources=PartitionSpec(('x', 'y'),),\n",
    "   out_axis_resources=PartitionSpec('x', 'y'))\n",
    "\n",
    "# Sends data to accelerators based on partition_spec\n",
    "with maps.Mesh(mesh.devices, mesh.axis_names):\n",
    " data = f(input_data)\n",
    "```"
   ]
  },
  {
   "cell_type": "markdown",
   "id": "05189a85",
   "metadata": {
    "id": "LtaOndLDg3DK"
   },
   "source": [
    "**Result on host 0**\n",
    "\n",
    "![spmd](../_static/multi_host.jpg)"
   ]
  }
 ],
 "metadata": {
  "kernelspec": {
   "display_name": "Python 3",
   "language": "python",
   "name": "python3"
  }
 },
 "nbformat": 4,
 "nbformat_minor": 5
}
