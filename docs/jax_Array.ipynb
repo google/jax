{
 "cells": [
  {
   "cell_type": "markdown",
   "metadata": {
    "id": "pFtQjv4SzHRj"
   },
   "source": [
    "**The features required by `jax.Array` are not supported by the Colab TPU runtime at this time.**"
   ]
  },
  {
   "cell_type": "code",
   "execution_count": null,
   "metadata": {
    "id": "41dde63b"
   },
   "outputs": [],
   "source": [
    "import os\n",
    "\n",
    "os.environ['XLA_FLAGS'] = '--xla_force_host_platform_device_count=8'\n",
    "\n",
    "import functools\n",
    "from typing import Optional\n",
    "\n",
    "import numpy as np\n",
    "\n",
    "import jax\n",
    "import jax.numpy as jnp\n",
    "\n",
    "jax.config.update('jax_array', True)"
   ]
  },
  {
   "cell_type": "markdown",
   "metadata": {
    "id": "eyHMwyEfQJcz"
   },
   "source": [
    "⚠️ WARNING: The notebook requires multiple devices in order to run correctly."
   ]
  },
  {
   "cell_type": "markdown",
   "metadata": {
    "id": "3f37ca93"
   },
   "source": [
    "### `Sharding` describes how array values are laid out in memory across devices"
   ]
  },
  {
   "cell_type": "markdown",
   "metadata": {
    "id": "W6HsXauGxL6w"
   },
   "source": [
    "#### Sharding basics, and the `PositionalSharding` subclass"
   ]
  },
  {
   "cell_type": "markdown",
   "metadata": {
    "id": "NWDyp_EjVHkg"
   },
   "source": [
    "To parallelize computation across multiple devices, we first have to describe how the data that computation acts on can be distributed across multiple devices. That means describing distributed layouts conveniently.\n",
    "\n",
    "In JAX, `Sharding` objects describe distributed memory layouts. They can be used with `jax.device_put` to produce a value with distributed layout.\n",
    "\n",
    "For example, here's a value with a single-device `Sharding`:"
   ]
  },
  {
   "cell_type": "code",
   "execution_count": null,
   "metadata": {
    "id": "s5jXIod7VcWW"
   },
   "outputs": [],
   "source": [
    "import jax\n",
    "x = jax.random.normal(jax.random.PRNGKey(0), (8192, 8192))"
   ]
  },
  {
   "cell_type": "markdown",
   "metadata": {
    "id": "HhCjhK0zXIqX"
   },
   "source": [
    "Here, we're using the `jax.debug.visualize_array_sharding` function to show where the value `x` is stored in memory. All of `x` is stored on a single device, so the visualization is pretty boring!\n",
    "\n",
    "But we can shard `x` across multiple devices by using `jax.device_put` and a `Sharding` object. First, we make a `numpy.ndarray` of `Devices` using `mesh_utils.create_device_mesh`, which takes hardware topology into account for the `Device` order:"
   ]
  },
  {
   "cell_type": "code",
   "execution_count": null,
   "metadata": {
    "id": "8fc925d2",
    "outputId": "97d6e6b7-7c4f-460a-ed69-0622f385cbbf"
   },
   "outputs": [
    {
     "name": "stdout",
     "output_type": "stream",
     "text": [
      "┌───────────────────────┐\n",
      "│                       │\n",
      "│                       │\n",
      "│                       │\n",
      "│                       │\n",
      "│         TPU 0         │\n",
      "│                       │\n",
      "│                       │\n",
      "│                       │\n",
      "│                       │\n",
      "└───────────────────────┘\n"
     ]
    }
   ],
   "source": [
    "jax.debug.visualize_array_sharding(x)"
   ]
  },
  {
   "cell_type": "markdown",
   "metadata": {
    "id": "xKC-WWgc8QGo"
   },
   "source": [
    "A quick example of what `jax.Array` can do before we dive into more details:"
   ]
  },
  {
   "cell_type": "code",
   "execution_count": null,
   "metadata": {
    "id": "kiZ59Mho5lzk"
   },
   "outputs": [],
   "source": [
    "from jax.experimental import mesh_utils\n",
    "from jax.sharding import PositionalSharding\n",
    "\n",
    "# Let's create a Sharding object which we will use to distribute\n",
    "# a value across devices.\n",
    "sharding = PositionalSharding(mesh_utils.create_device_mesh((8,)))"
   ]
  },
  {
   "cell_type": "code",
   "execution_count": null,
   "metadata": {
    "id": "t_Mw8cxU7YSK",
    "outputId": "99a0f04c-6e5a-42b9-e6d0-f022ffdfa09c"
   },
   "outputs": [
    {
     "name": "stdout",
     "output_type": "stream",
     "text": [
      "┌──────────┬──────────┐\n",
      "│  TPU 0   │  TPU 1   │\n",
      "├──────────┼──────────┤\n",
      "│  TPU 2   │  TPU 3   │\n",
      "├──────────┼──────────┤\n",
      "│  TPU 6   │  TPU 7   │\n",
      "├──────────┼──────────┤\n",
      "│  TPU 4   │  TPU 5   │\n",
      "└──────────┴──────────┘\n"
     ]
    }
   ],
   "source": [
    "y = jax.device_put(x, sharding.reshape(4, 2))\n",
    "jax.debug.visualize_array_sharding(y)"
   ]
  },
  {
   "cell_type": "markdown",
   "metadata": {
    "id": "jZ0ZY9Um9Jg4"
   },
   "source": [
    "We distributed `x` which was on a single device before to 8 devices."
   ]
  },
  {
   "cell_type": "code",
   "execution_count": null,
   "metadata": {
    "id": "WUzDakoG7a2l",
    "outputId": "ece03df1-ef85-49c6-f884-1f1be03e765f"
   },
   "outputs": [
    {
     "name": "stdout",
     "output_type": "stream",
     "text": [
      "┌──────────┬──────────┐\n",
      "│  TPU 0   │  TPU 1   │\n",
      "├──────────┼──────────┤\n",
      "│  TPU 2   │  TPU 3   │\n",
      "├──────────┼──────────┤\n",
      "│  TPU 6   │  TPU 7   │\n",
      "├──────────┼──────────┤\n",
      "│  TPU 4   │  TPU 5   │\n",
      "└──────────┴──────────┘\n"
     ]
    }
   ],
   "source": [
    "z = jnp.sin(y)\n",
    "jax.debug.visualize_array_sharding(z)"
   ]
  },
  {
   "cell_type": "markdown",
   "metadata": {
    "id": "5qccVQoE9tEi"
   },
   "source": [
    "After doing an `jnp.sin` operation on a distributed `jax.Array`, the sharding on the `output` was preserved. Also the operation itself happened on multiple devices. To test that, we can do a timing experiment:"
   ]
  },
  {
   "cell_type": "code",
   "execution_count": null,
   "metadata": {
    "id": "RdfmbYxr-2I_",
    "outputId": "8d858a67-b8e8-4193-fdaa-0c57431821ab"
   },
   "outputs": [
    {
     "name": "stdout",
     "output_type": "stream",
     "text": [
      "5 loops, best of 5: 15.1 ms per loop\n"
     ]
    }
   ],
   "source": [
    "# `x` is present on a single device\n",
    "%timeit -n 5 -r 5 jnp.sin(x).block_until_ready()"
   ]
  },
  {
   "cell_type": "code",
   "execution_count": null,
   "metadata": {
    "id": "cNLJQY_r-W75",
    "outputId": "b38b5f98-67de-46cf-8892-8f7b5337fc6c"
   },
   "outputs": [
    {
     "name": "stdout",
     "output_type": "stream",
     "text": [
      "5 loops, best of 5: 2.31 ms per loop\n"
     ]
    }
   ],
   "source": [
    "# `y` is sharded across 8 devices.\n",
    "%timeit -n 5 -r 5 jnp.sin(y).block_until_ready()"
   ]
  },
  {
   "cell_type": "markdown",
   "metadata": {
    "id": "xWknFQbQ-bzV"
   },
   "source": [
    "We can now continue with the rest of the details of `Sharding`s:"
   ]
  },
  {
   "cell_type": "code",
   "execution_count": null,
   "metadata": {
    "id": "f4d7c00a"
   },
   "outputs": [],
   "source": [
    "from jax.experimental import mesh_utils\n",
    "devices = mesh_utils.create_device_mesh((8,))"
   ]
  },
  {
   "cell_type": "markdown",
   "metadata": {
    "id": "lbOKFWmBX1iv"
   },
   "source": [
    "Then, we create a `PositionalSharding` and use it with `device_put`:"
   ]
  },
  {
   "cell_type": "code",
   "execution_count": null,
   "metadata": {
    "id": "K2PL4LwBX0JE",
    "outputId": "a38aa107-33c4-4a85-b1c0-6a223dc22df1"
   },
   "outputs": [
    {
     "name": "stdout",
     "output_type": "stream",
     "text": [
      "┌───────────────────────┐\n",
      "│         TPU 0         │\n",
      "├───────────────────────┤\n",
      "│         TPU 1         │\n",
      "├───────────────────────┤\n",
      "│         TPU 2         │\n",
      "├───────────────────────┤\n",
      "│         TPU 3         │\n",
      "├───────────────────────┤\n",
      "│         TPU 6         │\n",
      "├───────────────────────┤\n",
      "│         TPU 7         │\n",
      "├───────────────────────┤\n",
      "│         TPU 4         │\n",
      "├───────────────────────┤\n",
      "│         TPU 5         │\n",
      "└───────────────────────┘\n"
     ]
    }
   ],
   "source": [
    "from jax.sharding import PositionalSharding\n",
    "\n",
    "sharding = PositionalSharding(devices)\n",
    "\n",
    "x = jax.device_put(x, sharding.reshape(8, 1))\n",
    "jax.debug.visualize_array_sharding(x)"
   ]
  },
  {
   "cell_type": "markdown",
   "metadata": {
    "id": "TUu69IWXZdTm"
   },
   "source": [
    "Here `sharding` is a `PositionalSharding` which acts like an array with sets of devices as elements:"
   ]
  },
  {
   "cell_type": "code",
   "execution_count": null,
   "metadata": {
    "id": "d6fd0d23",
    "outputId": "ee8e5ac2-06b2-4aab-fa89-040c40495f0b"
   },
   "outputs": [
    {
     "data": {
      "text/plain": [
       "PositionalSharding([{TPU 0} {TPU 1} {TPU 2} {TPU 3} {TPU 6} {TPU 7} {TPU 4} {TPU 5}])"
      ]
     },
     "execution_count": 7,
     "metadata": {},
     "output_type": "execute_result"
    }
   ],
   "source": [
    "sharding"
   ]
  },
  {
   "cell_type": "markdown",
   "metadata": {
    "id": "uRLpOcmNj_Vt"
   },
   "source": [
    "By writing `PositionalSharding(ndarray_of_devices)`, we fix the device order and the initial shape. Then we can reshape it:"
   ]
  },
  {
   "cell_type": "code",
   "execution_count": null,
   "metadata": {
    "id": "b5445d3b",
    "outputId": "f6e9af0f-fee7-47e6-e6f0-5ceb205dbaf1"
   },
   "outputs": [
    {
     "data": {
      "text/plain": [
       "PositionalSharding([[{TPU 0}]\n",
       "                    [{TPU 1}]\n",
       "                    [{TPU 2}]\n",
       "                    [{TPU 3}]\n",
       "                    [{TPU 6}]\n",
       "                    [{TPU 7}]\n",
       "                    [{TPU 4}]\n",
       "                    [{TPU 5}]])"
      ]
     },
     "execution_count": 8,
     "metadata": {},
     "output_type": "execute_result"
    }
   ],
   "source": [
    "sharding.reshape(8, 1)"
   ]
  },
  {
   "cell_type": "code",
   "execution_count": null,
   "metadata": {
    "id": "pS7xTZeBm6Dt",
    "outputId": "89acd8eb-2889-418f-94ab-d9cbfecd456b"
   },
   "outputs": [
    {
     "data": {
      "text/plain": [
       "PositionalSharding([[{TPU 0} {TPU 1}]\n",
       "                    [{TPU 2} {TPU 3}]\n",
       "                    [{TPU 6} {TPU 7}]\n",
       "                    [{TPU 4} {TPU 5}]])"
      ]
     },
     "execution_count": 9,
     "metadata": {},
     "output_type": "execute_result"
    }
   ],
   "source": [
    "sharding.reshape(4, 2)"
   ]
  },
  {
   "cell_type": "markdown",
   "metadata": {
    "id": "KBu6WLfhm7ra"
   },
   "source": [
    "To use `device_put` with a data array `x`, we can reshape the `sharding` into a shape that is _congruent_ with `x.shape`, meaning a shape with the same length as `x.shape` and where each element evenly divides the corresponding element of `x.shape`:\n",
    "```python\n",
    "def is_congruent(x_shape: Sequence[int], sharding_shape: Sequence[int]) -> bool:\n",
    "  return (len(x_shape) == len(sharding_shape) and\n",
    "          all(d1 % d2 == 0 for d1, d2 in zip(x_shape, sharding_shape)))\n",
    "```\n",
    "\n",
    "For example, we can reshape `sharding` to have shape `(4, 2)`, then use it in a `device_put`:"
   ]
  },
  {
   "cell_type": "code",
   "execution_count": null,
   "metadata": {
    "id": "6JhLL3i_sPth",
    "outputId": "89928f9a-9b33-4b0f-860b-68c39fd542f7"
   },
   "outputs": [
    {
     "name": "stdout",
     "output_type": "stream",
     "text": [
      "PositionalSharding([[{TPU 0} {TPU 1}]\n",
      "                    [{TPU 2} {TPU 3}]\n",
      "                    [{TPU 6} {TPU 7}]\n",
      "                    [{TPU 4} {TPU 5}]])\n"
     ]
    }
   ],
   "source": [
    "sharding = sharding.reshape(4, 2)\n",
    "print(sharding)"
   ]
  },
  {
   "cell_type": "code",
   "execution_count": null,
   "metadata": {
    "id": "5FCqZfhWt88c",
    "outputId": "dffe1f80-09f8-4266-d9d9-26b63cd11495"
   },
   "outputs": [
    {
     "name": "stdout",
     "output_type": "stream",
     "text": [
      "┌──────────┬──────────┐\n",
      "│  TPU 0   │  TPU 1   │\n",
      "├──────────┼──────────┤\n",
      "│  TPU 2   │  TPU 3   │\n",
      "├──────────┼──────────┤\n",
      "│  TPU 6   │  TPU 7   │\n",
      "├──────────┼──────────┤\n",
      "│  TPU 4   │  TPU 5   │\n",
      "└──────────┴──────────┘\n"
     ]
    }
   ],
   "source": [
    "y = jax.device_put(x, sharding)\n",
    "jax.debug.visualize_array_sharding(y)"
   ]
  },
  {
   "cell_type": "markdown",
   "metadata": {
    "id": "tyg9F-UIsU__"
   },
   "source": [
    "Here `y` represents the same _value_ as `x`, but its shards (i.e. slices) are stored in different devices' memories.\n",
    "\n",
    "Different `sharding` shapes result in different distributed layouts (i.e. shardings) of the result:"
   ]
  },
  {
   "cell_type": "code",
   "execution_count": null,
   "metadata": {
    "id": "nt4IbVMkswlO",
    "outputId": "51f39abc-451b-4543-c5f5-63588d6f357c"
   },
   "outputs": [
    {
     "name": "stdout",
     "output_type": "stream",
     "text": [
      "PositionalSharding([[{TPU 0} {TPU 1} {TPU 2} {TPU 3} {TPU 6} {TPU 7} {TPU 4} {TPU 5}]])\n"
     ]
    }
   ],
   "source": [
    "sharding = sharding.reshape(1, 8)\n",
    "print(sharding)"
   ]
  },
  {
   "cell_type": "code",
   "execution_count": null,
   "metadata": {
    "id": "AyZzDpnFuIpz",
    "outputId": "6469d5f7-0489-4435-e690-c946195f96f3"
   },
   "outputs": [
    {
     "name": "stdout",
     "output_type": "stream",
     "text": [
      "┌───────┬───────┬───────┬───────┬───────┬───────┬───────┬───────┐\n",
      "│       │       │       │       │       │       │       │       │\n",
      "│       │       │       │       │       │       │       │       │\n",
      "│       │       │       │       │       │       │       │       │\n",
      "│       │       │       │       │       │       │       │       │\n",
      "│ TPU 0 │ TPU 1 │ TPU 2 │ TPU 3 │ TPU 6 │ TPU 7 │ TPU 4 │ TPU 5 │\n",
      "│       │       │       │       │       │       │       │       │\n",
      "│       │       │       │       │       │       │       │       │\n",
      "│       │       │       │       │       │       │       │       │\n",
      "│       │       │       │       │       │       │       │       │\n",
      "└───────┴───────┴───────┴───────┴───────┴───────┴───────┴───────┘\n"
     ]
    }
   ],
   "source": [
    "y = jax.device_put(x, sharding)\n",
    "jax.debug.visualize_array_sharding(y)"
   ]
  },
  {
   "cell_type": "markdown",
   "metadata": {
    "id": "0PuamOvXubcf"
   },
   "source": [
    "In some cases, we don't just want to store each slice of `x` in a single device's memory; we might want to _replicate_ some slices, meaning storing copies of a slice's values in multiple devices' memories.\n",
    "\n",
    "With `PositionalSharding`, we can express replication by calling the reducer method `replicate`:"
   ]
  },
  {
   "cell_type": "code",
   "execution_count": null,
   "metadata": {
    "id": "l5t_Mg_Rux6j",
    "outputId": "51768d97-50c1-4bc0-fe36-1869c2e9f2c1"
   },
   "outputs": [
    {
     "name": "stdout",
     "output_type": "stream",
     "text": [
      "PositionalSharding([[{TPU 0, 2, 4, 6} {TPU 1, 3, 5, 7}]])\n"
     ]
    }
   ],
   "source": [
    "sharding = sharding.reshape(4, 2)\n",
    "print(sharding.replicate(axis=0, keepdims=True))"
   ]
  },
  {
   "cell_type": "code",
   "execution_count": null,
   "metadata": {
    "id": "Gi3sDdqAu_8W",
    "outputId": "523fc513-9a30-49b7-9152-051033615a2d"
   },
   "outputs": [
    {
     "name": "stdout",
     "output_type": "stream",
     "text": [
      "┌───────────┬───────────┐\n",
      "│           │           │\n",
      "│           │           │\n",
      "│           │           │\n",
      "│           │           │\n",
      "│TPU 0,2,4,6│TPU 1,3,5,7│\n",
      "│           │           │\n",
      "│           │           │\n",
      "│           │           │\n",
      "│           │           │\n",
      "└───────────┴───────────┘\n"
     ]
    }
   ],
   "source": [
    "y = jax.device_put(x, sharding.replicate(axis=0, keepdims=True))\n",
    "jax.debug.visualize_array_sharding(y)"
   ]
  },
  {
   "cell_type": "markdown",
   "metadata": {
    "id": "FzeP0kpTvJv-"
   },
   "source": [
    "Here the visualization shows that `x` is sharded two ways along its second dimension (and not sharded along the first dimension), and each of those shards is replicated four ways (i.e. stored in four device memories).\n",
    "\n",
    "The `replicate` method acts similar to the familiar NumPy array reduction methods like `.sum()` and `.prod()`. It operates along an axis performing a set union. So if `sharding` has shape `(4, 2)`, then `sharding.replicate(0, keepdims=True)` has shape `(1, 2)`, and `sharding.replicate(1, keepdims=True)` has shape `(4, 1)`. Unlike analogous NumPy methods, `keepdims=True` is actually the default, so reduced-over axes aren't squeezed:"
   ]
  },
  {
   "cell_type": "code",
   "execution_count": null,
   "metadata": {
    "id": "vDlU8hgJvson",
    "outputId": "970d6942-0cb0-4e4e-e471-01cbfb343179"
   },
   "outputs": [
    {
     "name": "stdout",
     "output_type": "stream",
     "text": [
      "(1, 2)\n",
      "(4, 1)\n"
     ]
    }
   ],
   "source": [
    "print(sharding.replicate(0).shape)\n",
    "print(sharding.replicate(1).shape)"
   ]
  },
  {
   "cell_type": "code",
   "execution_count": null,
   "metadata": {
    "id": "vHWC4womxCdf",
    "outputId": "9095b282-d87e-4df7-c99f-248acaf3d412"
   },
   "outputs": [
    {
     "name": "stdout",
     "output_type": "stream",
     "text": [
      "┌───────────────────────┐\n",
      "│        TPU 0,1        │\n",
      "├───────────────────────┤\n",
      "│        TPU 2,3        │\n",
      "├───────────────────────┤\n",
      "│        TPU 6,7        │\n",
      "├───────────────────────┤\n",
      "│        TPU 4,5        │\n",
      "└───────────────────────┘\n"
     ]
    }
   ],
   "source": [
    "y = jax.device_put(x, sharding.replicate(1))\n",
    "jax.debug.visualize_array_sharding(y)"
   ]
  },
  {
   "cell_type": "markdown",
   "metadata": {
    "id": "D31t5POXxHHJ"
   },
   "source": [
    "#### `NamedSharding` gives a way to express shardings with names"
   ]
  },
  {
   "cell_type": "markdown",
   "metadata": {
    "id": "ayMKWeTmxl-X"
   },
   "source": [
    "So far we've worked with `PositionalSharding`, but there are alternative ways to express shardings. In fact, `Sharding` is an interface, and any class that implements that interface can be used with functions like `device_put`.\n",
    "\n",
    "Another convenient way to express sharding is with the `NamedSharding`:"
   ]
  },
  {
   "cell_type": "code",
   "execution_count": null,
   "metadata": {
    "id": "bQCdEAHQ1q8J",
    "outputId": "2c423db8-4dcf-49f1-aed1-6ac1ba6cfbf8"
   },
   "outputs": [
    {
     "name": "stdout",
     "output_type": "stream",
     "text": [
      "┌──────────┬──────────┐\n",
      "│  TPU 0   │  TPU 1   │\n",
      "├──────────┼──────────┤\n",
      "│  TPU 2   │  TPU 3   │\n",
      "├──────────┼──────────┤\n",
      "│  TPU 6   │  TPU 7   │\n",
      "├──────────┼──────────┤\n",
      "│  TPU 4   │  TPU 5   │\n",
      "└──────────┴──────────┘\n"
     ]
    }
   ],
   "source": [
    "from jax.experimental import maps\n",
    "from jax.experimental import PartitionSpec\n",
    "from jax.experimental import mesh_utils\n",
    "from jax.sharding import NamedSharding\n",
    "P = PartitionSpec\n",
    "\n",
    "devices = mesh_utils.create_device_mesh((4, 2))\n",
    "mesh = maps.Mesh(devices, axis_names=('a', 'b'))\n",
    "y = jax.device_put(x, NamedSharding(mesh, P('a', 'b')))\n",
    "jax.debug.visualize_array_sharding(y)"
   ]
  },
  {
   "cell_type": "markdown",
   "metadata": {
    "id": "OW_Cc92G1-nr"
   },
   "source": [
    "We can define a helper function to make things simpler:"
   ]
  },
  {
   "cell_type": "code",
   "execution_count": null,
   "metadata": {
    "id": "2sDUx-VbzvVz"
   },
   "outputs": [],
   "source": [
    "devices = mesh_utils.create_device_mesh((4, 2))\n",
    "default_mesh = maps.Mesh(devices, axis_names=('a', 'b'))\n",
    "\n",
    "def mesh_sharding(\n",
    "    pspec: PartitionSpec, mesh: Optional[maps.Mesh] = None,\n",
    ") -> NamedSharding:\n",
    "  if mesh is None:\n",
    "    mesh = default_mesh\n",
    "  return NamedSharding(mesh, pspec)"
   ]
  },
  {
   "cell_type": "code",
   "execution_count": null,
   "metadata": {
    "id": "KirNGYXLzvK6",
    "outputId": "274ae2e6-37a3-462f-b437-5c8d40955ec0"
   },
   "outputs": [
    {
     "name": "stdout",
     "output_type": "stream",
     "text": [
      "┌──────────┬──────────┐\n",
      "│  TPU 0   │  TPU 1   │\n",
      "├──────────┼──────────┤\n",
      "│  TPU 2   │  TPU 3   │\n",
      "├──────────┼──────────┤\n",
      "│  TPU 6   │  TPU 7   │\n",
      "├──────────┼──────────┤\n",
      "│  TPU 4   │  TPU 5   │\n",
      "└──────────┴──────────┘\n"
     ]
    }
   ],
   "source": [
    "y = jax.device_put(x, mesh_sharding(P('a', 'b')))\n",
    "jax.debug.visualize_array_sharding(y)"
   ]
  },
  {
   "cell_type": "markdown",
   "metadata": {
    "id": "xZ88riVm1mv5"
   },
   "source": [
    "Here, we use `P('a', 'b')` to express that the first and second axes of `x` should be sharded over the device mesh axes `'a'` and `'b'`, respectively. We can easily switch to `P('b', 'a')` to shard the axes of `x` over different devices:"
   ]
  },
  {
   "cell_type": "code",
   "execution_count": null,
   "metadata": {
    "id": "JJaKU2pJ2eAC",
    "outputId": "6fcd07f7-a7df-4805-f6dd-d66c709f8d90"
   },
   "outputs": [
    {
     "name": "stdout",
     "output_type": "stream",
     "text": [
      "┌───────┬───────┬───────┬───────┐\n",
      "│       │       │       │       │\n",
      "│ TPU 0 │ TPU 2 │ TPU 4 │ TPU 6 │\n",
      "│       │       │       │       │\n",
      "│       │       │       │       │\n",
      "├───────┼───────┼───────┼───────┤\n",
      "│       │       │       │       │\n",
      "│ TPU 1 │ TPU 3 │ TPU 5 │ TPU 7 │\n",
      "│       │       │       │       │\n",
      "│       │       │       │       │\n",
      "└───────┴───────┴───────┴───────┘\n"
     ]
    }
   ],
   "source": [
    "y = jax.device_put(x, mesh_sharding(P('b', 'a')))\n",
    "jax.debug.visualize_array_sharding(y)"
   ]
  },
  {
   "cell_type": "code",
   "execution_count": null,
   "metadata": {
    "id": "nLlRM7DZ25-K",
    "outputId": "6e2f211b-99b7-4192-bf58-ae47fb0e0c81"
   },
   "outputs": [
    {
     "name": "stdout",
     "output_type": "stream",
     "text": [
      "┌───────────────────────┐\n",
      "│        TPU 0,1        │\n",
      "├───────────────────────┤\n",
      "│        TPU 2,3        │\n",
      "├───────────────────────┤\n",
      "│        TPU 4,5        │\n",
      "├───────────────────────┤\n",
      "│        TPU 6,7        │\n",
      "└───────────────────────┘\n"
     ]
    }
   ],
   "source": [
    "# `None` means that `x` is replicated on the 1st dimension (counting from 0).\n",
    "y = jax.device_put(x, mesh_sharding(P('a', None)))\n",
    "jax.debug.visualize_array_sharding(y)"
   ]
  },
  {
   "cell_type": "markdown",
   "metadata": {
    "id": "AqcAsNUgXCZz"
   },
   "source": [
    "Here, because `P('a', None)` doesn't mention the `Mesh` axis name `'b'`, we get replication over the axis `'b'`. The `None` here is just acting as a placeholder to line up against the second axis of the value `x`, without expressing sharding over any mesh axis. (As a shorthand, trailing `None`s can be omitted, so that `P('a', None)` means the same thing as `P('a')`. But it doesn't hurt to be explicit!)\n",
    "\n",
    "To shard only over the second axis of `x`, we can use a `None` placeholder in the `PartitionSpec`:"
   ]
  },
  {
   "cell_type": "code",
   "execution_count": null,
   "metadata": {
    "id": "svq_HGHU29HV",
    "outputId": "6e6a3111-faa9-42e4-d16b-75eb08ca315a"
   },
   "outputs": [
    {
     "name": "stdout",
     "output_type": "stream",
     "text": [
      "┌───────────┬───────────┐\n",
      "│           │           │\n",
      "│           │           │\n",
      "│           │           │\n",
      "│           │           │\n",
      "│TPU 0,2,4,6│TPU 1,3,5,7│\n",
      "│           │           │\n",
      "│           │           │\n",
      "│           │           │\n",
      "│           │           │\n",
      "└───────────┴───────────┘\n"
     ]
    }
   ],
   "source": [
    "y = jax.device_put(x, mesh_sharding(P(None, 'b')))\n",
    "jax.debug.visualize_array_sharding(y)"
   ]
  },
  {
   "cell_type": "code",
   "execution_count": null,
   "metadata": {
    "id": "oRhRKETlX0RD",
    "outputId": "fd305fbf-5060-4d61-8f67-cce3dcb32736"
   },
   "outputs": [
    {
     "name": "stdout",
     "output_type": "stream",
     "text": [
      "┌───────┬───────┬───────┬───────┐\n",
      "│       │       │       │       │\n",
      "│       │       │       │       │\n",
      "│       │       │       │       │\n",
      "│       │       │       │       │\n",
      "│TPU 0,1│TPU 2,3│TPU 4,5│TPU 6,7│\n",
      "│       │       │       │       │\n",
      "│       │       │       │       │\n",
      "│       │       │       │       │\n",
      "│       │       │       │       │\n",
      "└───────┴───────┴───────┴───────┘\n"
     ]
    }
   ],
   "source": [
    "y = jax.device_put(x, mesh_sharding(P(None, 'a')))\n",
    "jax.debug.visualize_array_sharding(y)"
   ]
  },
  {
   "cell_type": "markdown",
   "metadata": {
    "id": "--AZgW1P3HFT"
   },
   "source": [
    "For a fixed mesh, we can even partition one logical axis of `x` over multiple device mesh axes:"
   ]
  },
  {
   "cell_type": "code",
   "execution_count": null,
   "metadata": {
    "id": "ldq5Ws2A3Bbl",
    "outputId": "5f6b28fd-2747-4854-d272-de8fee2fe0c7"
   },
   "outputs": [
    {
     "name": "stdout",
     "output_type": "stream",
     "text": [
      "┌───────────────────────┐\n",
      "│         TPU 0         │\n",
      "├───────────────────────┤\n",
      "│         TPU 1         │\n",
      "├───────────────────────┤\n",
      "│         TPU 2         │\n",
      "├───────────────────────┤\n",
      "│         TPU 3         │\n",
      "├───────────────────────┤\n",
      "│         TPU 4         │\n",
      "├───────────────────────┤\n",
      "│         TPU 5         │\n",
      "├───────────────────────┤\n",
      "│         TPU 6         │\n",
      "├───────────────────────┤\n",
      "│         TPU 7         │\n",
      "└───────────────────────┘\n"
     ]
    }
   ],
   "source": [
    "y = jax.device_put(x, mesh_sharding(P(('a', 'b'), None)))\n",
    "jax.debug.visualize_array_sharding(y)"
   ]
  },
  {
   "cell_type": "markdown",
   "metadata": {
    "id": "c1tTFudr3Ae7"
   },
   "source": [
    "Using `NamedSharding` makes it easy to define a device mesh once and give its axes names, then just refer to those names in `PartitionSpec`s for each `device_put` as needed."
   ]
  },
  {
   "cell_type": "markdown",
   "metadata": {
    "id": "rhWzHgGf4mkg"
   },
   "source": [
    "## Computation follows data sharding and is automatically parallelized"
   ]
  },
  {
   "cell_type": "markdown",
   "metadata": {
    "id": "JukoaRhl4tXJ"
   },
   "source": [
    "With sharded data, the compiler can give us parallel computation. In particular, functions decorated with `jax.jit` can operate over sharded arrays without copying data onto a single device. Instead, computation follows sharding: based on the sharding of the input data, the compiler decides shardings for intermediates and output values, and parallelizes their evaluation, even inserting communication operations as necessary.\n",
    "\n",
    "For example, the simplest computation is an elementwise one:"
   ]
  },
  {
   "cell_type": "code",
   "execution_count": null,
   "metadata": {
    "id": "_NqZnEUHgZQv"
   },
   "outputs": [],
   "source": [
    "from jax.experimental import mesh_utils\n",
    "from jax.sharding import PositionalSharding\n",
    "sharding = PositionalSharding(mesh_utils.create_device_mesh((8,)))"
   ]
  },
  {
   "cell_type": "code",
   "execution_count": null,
   "metadata": {
    "id": "x89raigTazVJ",
    "outputId": "e2fb6c30-3ad7-4400-ce61-51d38041824a"
   },
   "outputs": [
    {
     "name": "stdout",
     "output_type": "stream",
     "text": [
      "input sharding:\n",
      "┌──────────┬──────────┐\n",
      "│  TPU 0   │  TPU 1   │\n",
      "├──────────┼──────────┤\n",
      "│  TPU 2   │  TPU 3   │\n",
      "├──────────┼──────────┤\n",
      "│  TPU 6   │  TPU 7   │\n",
      "├──────────┼──────────┤\n",
      "│  TPU 4   │  TPU 5   │\n",
      "└──────────┴──────────┘\n",
      "output sharding:\n",
      "┌──────────┬──────────┐\n",
      "│  TPU 0   │  TPU 1   │\n",
      "├──────────┼──────────┤\n",
      "│  TPU 2   │  TPU 3   │\n",
      "├──────────┼──────────┤\n",
      "│  TPU 6   │  TPU 7   │\n",
      "├──────────┼──────────┤\n",
      "│  TPU 4   │  TPU 5   │\n",
      "└──────────┴──────────┘\n"
     ]
    }
   ],
   "source": [
    "x = jax.device_put(x, sharding.reshape(4, 2))\n",
    "print('input sharding:')\n",
    "jax.debug.visualize_array_sharding(x)\n",
    "\n",
    "y = jnp.sin(x)\n",
    "print('output sharding:')\n",
    "jax.debug.visualize_array_sharding(y)"
   ]
  },
  {
   "cell_type": "markdown",
   "metadata": {
    "id": "7tY2gVRfazaT"
   },
   "source": [
    "Here for the elementwise operation `jnp.sin` the compiler chose the output sharding to be the same as the input. Moreover, the compiler automatically parallelized the computation, so that each device computed its output shard from its input shard in parallel.\n",
    "\n",
    "In other words, even though we wrote the `jnp.sin` computation as if a single machine were to execute it, the compiler splits up the computation for us and executes it on multiple devices.\n",
    "\n",
    "We can do the same for more than just elementwise operations too. Consider a matrix multiplication with sharded inputs:"
   ]
  },
  {
   "cell_type": "code",
   "execution_count": null,
   "metadata": {
    "id": "D52tW3y-cx32",
    "outputId": "3319f678-133e-43c8-f3d2-624dc9cfd8f7"
   },
   "outputs": [
    {
     "name": "stdout",
     "output_type": "stream",
     "text": [
      "lhs sharding:\n",
      "┌───────────────────────┐\n",
      "│        TPU 0,1        │\n",
      "├───────────────────────┤\n",
      "│        TPU 2,3        │\n",
      "├───────────────────────┤\n",
      "│        TPU 6,7        │\n",
      "├───────────────────────┤\n",
      "│        TPU 4,5        │\n",
      "└───────────────────────┘\n",
      "rhs sharding:\n",
      "┌───────────┬───────────┐\n",
      "│           │           │\n",
      "│           │           │\n",
      "│           │           │\n",
      "│           │           │\n",
      "│TPU 0,2,4,6│TPU 1,3,5,7│\n",
      "│           │           │\n",
      "│           │           │\n",
      "│           │           │\n",
      "│           │           │\n",
      "└───────────┴───────────┘\n",
      "out sharding:\n",
      "┌──────────┬──────────┐\n",
      "│  TPU 0   │  TPU 1   │\n",
      "├──────────┼──────────┤\n",
      "│  TPU 2   │  TPU 3   │\n",
      "├──────────┼──────────┤\n",
      "│  TPU 6   │  TPU 7   │\n",
      "├──────────┼──────────┤\n",
      "│  TPU 4   │  TPU 5   │\n",
      "└──────────┴──────────┘\n"
     ]
    }
   ],
   "source": [
    "y = jax.device_put(x, sharding.reshape(4, 2).replicate(1))\n",
    "z = jax.device_put(x, sharding.reshape(4, 2).replicate(0))\n",
    "print('lhs sharding:')\n",
    "jax.debug.visualize_array_sharding(y)\n",
    "print('rhs sharding:')\n",
    "jax.debug.visualize_array_sharding(z)\n",
    "\n",
    "w = jnp.dot(y, z)\n",
    "print('out sharding:')\n",
    "jax.debug.visualize_array_sharding(w)"
   ]
  },
  {
   "cell_type": "markdown",
   "metadata": {
    "id": "_EPNaWzgazft"
   },
   "source": [
    "Here the compiler chose the output sharding so that it could maximally parallelize the computation: without needing communication, each device already has the input shards it needs to compute its output shard.\n",
    "\n",
    "How can we be sure it's actually running in parallel? We can do a simple timing experiment:"
   ]
  },
  {
   "cell_type": "code",
   "execution_count": null,
   "metadata": {
    "id": "BUcN-RqtfRml",
    "outputId": "c7fe34fc-741c-46c3-da24-e095ba39573c"
   },
   "outputs": [
    {
     "name": "stdout",
     "output_type": "stream",
     "text": [
      "┌───────────────────────┐\n",
      "│                       │\n",
      "│                       │\n",
      "│                       │\n",
      "│                       │\n",
      "│         TPU 0         │\n",
      "│                       │\n",
      "│                       │\n",
      "│                       │\n",
      "│                       │\n",
      "└───────────────────────┘\n"
     ]
    }
   ],
   "source": [
    "x_single = jax.device_put(x, jax.devices()[0])\n",
    "jax.debug.visualize_array_sharding(x_single)"
   ]
  },
  {
   "cell_type": "code",
   "execution_count": null,
   "metadata": {
    "id": "iKrmBxJ-fhM9",
    "outputId": "4f36ae48-46e7-47ba-8318-8f824b78f6e5"
   },
   "outputs": [
    {
     "data": {
      "text/plain": [
       "True"
      ]
     },
     "execution_count": 30,
     "metadata": {},
     "output_type": "execute_result"
    }
   ],
   "source": [
    "np.allclose(jnp.dot(x_single, x_single),\n",
    "            jnp.dot(y, z))"
   ]
  },
  {
   "cell_type": "code",
   "execution_count": null,
   "metadata": {
    "id": "gpcGJ1PSfSAV",
    "outputId": "3f7d522f-fd8a-4752-917e-502bfbe64750"
   },
   "outputs": [
    {
     "name": "stdout",
     "output_type": "stream",
     "text": [
      "5 loops, best of 5: 19.4 ms per loop\n"
     ]
    }
   ],
   "source": [
    "%timeit -n 5 -r 5 jnp.dot(x_single, x_single).block_until_ready()"
   ]
  },
  {
   "cell_type": "code",
   "execution_count": null,
   "metadata": {
    "id": "1LMWZuYRfSGT",
    "outputId": "ff08bcb3-4f2f-4397-dec5-8a029eb3259a"
   },
   "outputs": [
    {
     "name": "stdout",
     "output_type": "stream",
     "text": [
      "5 loops, best of 5: 2.96 ms per loop\n"
     ]
    }
   ],
   "source": [
    "%timeit -n 5 -r 5 jnp.dot(y, z).block_until_ready()"
   ]
  },
  {
   "cell_type": "markdown",
   "metadata": {
    "id": "gglQIMXJnnJw"
   },
   "source": [
    "Even copying a sharded `Array` produces a result with the sharding of the input:"
   ]
  },
  {
   "cell_type": "code",
   "execution_count": null,
   "metadata": {
    "id": "sdhFK3VGntbc",
    "outputId": "e2309311-6b58-4d5b-d449-802cadfa35e4"
   },
   "outputs": [
    {
     "name": "stdout",
     "output_type": "stream",
     "text": [
      "┌──────────┬──────────┐\n",
      "│  TPU 0   │  TPU 1   │\n",
      "├──────────┼──────────┤\n",
      "│  TPU 2   │  TPU 3   │\n",
      "├──────────┼──────────┤\n",
      "│  TPU 6   │  TPU 7   │\n",
      "├──────────┼──────────┤\n",
      "│  TPU 4   │  TPU 5   │\n",
      "└──────────┴──────────┘\n"
     ]
    }
   ],
   "source": [
    "w_copy = jnp.copy(w)\n",
    "jax.debug.visualize_array_sharding(w_copy)"
   ]
  },
  {
   "cell_type": "markdown",
   "metadata": {
    "id": "3qfPjJdhgerc"
   },
   "source": [
    "So computation follows data placement: when we explicitly shard data with `jax.device_put`, and apply functions to that data, the compiler attempts to parallelize the computation and decide the output sharding. This policy for sharded data is a generalization of [JAX's policy of following explicit device placement](https://jax.readthedocs.io/en/latest/faq.html#controlling-data-and-computation-placement-on-devices)."
   ]
  },
  {
   "cell_type": "markdown",
   "metadata": {
    "id": "QRB95LaWuT80"
   },
   "source": [
    "### When explicit shardings disagree, JAX errors\n",
    "\n",
    "But what if two arguments to a computation are explicitly placed on different sets of devices, or with incompatible device orders?\n",
    "In these ambiguous cases, an error is raised:"
   ]
  },
  {
   "cell_type": "code",
   "execution_count": null,
   "metadata": {
    "id": "9xmq1Jbatxwz"
   },
   "outputs": [],
   "source": [
    "import textwrap\n",
    "from termcolor import colored\n",
    "\n",
    "def print_exception(e):\n",
    "  name = colored(f'{type(e).__name__}', 'red')\n",
    "  print(textwrap.fill(f'{name}: {str(e)}'))"
   ]
  },
  {
   "cell_type": "code",
   "execution_count": null,
   "metadata": {
    "id": "Yah71IjBqyKD",
    "outputId": "544a4ca2-86d1-4df9-a4fd-7fc252471000"
   },
   "outputs": [
    {
     "name": "stdout",
     "output_type": "stream",
     "text": [
      "\u001b[31mValueError\u001b[0m: Devices of all `Array` inputs and outputs should\n",
      "be the same. Got array device ids [0, 1, 2, 3] on platform TPU and\n",
      "another array's device ids [4, 5, 6, 7] on platform TPU\n"
     ]
    }
   ],
   "source": [
    "sharding1 = PositionalSharding(jax.devices()[:4])\n",
    "sharding2 = PositionalSharding(jax.devices()[4:])\n",
    "\n",
    "y = jax.device_put(x, sharding1.reshape(2, 2))\n",
    "z = jax.device_put(x, sharding2.reshape(2, 2))\n",
    "try: y + z\n",
    "except ValueError as e: print_exception(e)"
   ]
  },
  {
   "cell_type": "code",
   "execution_count": null,
   "metadata": {
    "id": "HSHDAuJDqyO3",
    "outputId": "79b629ab-6715-44e0-c3f1-c531ad513150"
   },
   "outputs": [
    {
     "name": "stdout",
     "output_type": "stream",
     "text": [
      "\u001b[31mValueError\u001b[0m: Devices of all `Array` inputs and outputs should\n",
      "be the same. Got array device ids [0, 1, 2, 3, 4, 5, 6, 7] on platform\n",
      "TPU and another array's device ids [0, 1, 2, 3, 6, 7, 4, 5] on\n",
      "platform TPU\n"
     ]
    }
   ],
   "source": [
    "devices = jax.devices()\n",
    "permuted_devices = [devices[i] for i in [0, 1, 2, 3, 6, 7, 4, 5]]\n",
    "\n",
    "sharding1 = PositionalSharding(devices)\n",
    "sharding2 = PositionalSharding(permuted_devices)\n",
    "\n",
    "y = jax.device_put(x, sharding1.reshape(4, 2))\n",
    "z = jax.device_put(x, sharding2.reshape(4, 2))\n",
    "try: y + z\n",
    "except ValueError as e: print_exception(e)"
   ]
  },
  {
   "cell_type": "markdown",
   "metadata": {
    "id": "6ZYcK8eXrn0p"
   },
   "source": [
    "We say arrays that have been explicitly placed or sharded with `jax.device_put` are _committed_ to their device(s), and so won't be automatically moved. See the [device placement FAQ](https://jax.readthedocs.io/en/latest/faq.html#controlling-data-and-computation-placement-on-devices) for more information.\n",
    "\n",
    "When arrays are _not_ explicitly placed or sharded with `jax.device_put`, they are placed _uncommitted_ on the default device.\n",
    "Unlike committed arrays, uncommitted arrays can be moved and resharded automatically: that is, uncommitted arrays can be arguments to a computation even if other arguments are explicitly placed on different devices.\n",
    "\n",
    "For example, the output of `jnp.zeros`, `jnp.arange`, and `jnp.array` are uncommitted:"
   ]
  },
  {
   "cell_type": "code",
   "execution_count": null,
   "metadata": {
    "id": "hDa3ogiwrvZx",
    "outputId": "009bd5f2-742d-415c-d0c7-a87cb3ba8e5d"
   },
   "outputs": [
    {
     "name": "stdout",
     "output_type": "stream",
     "text": [
      "no error!\n"
     ]
    }
   ],
   "source": [
    "y = jax.device_put(x, sharding1.reshape(4, 2))\n",
    "y + jnp.ones_like(y)\n",
    "y + jnp.arange(y.size).reshape(y.shape)\n",
    "print('no error!')"
   ]
  },
  {
   "cell_type": "markdown",
   "metadata": {
    "id": "dqMKl79NaIWF"
   },
   "source": [
    "## Constraining shardings of intermediates in `jit`ted code"
   ]
  },
  {
   "cell_type": "markdown",
   "metadata": {
    "id": "g4LrDDcJwkHc"
   },
   "source": [
    "While the compiler will attempt to decide how a function's intermediate values and outputs should be sharded, we can also give it hints using `jax.lax.with_sharding_constraint`. Using `jax.lax.with_sharding_constraint` is much like `jax.device_put`, except we use it inside staged-out (i.e. `jit`-decorated) functions:"
   ]
  },
  {
   "cell_type": "code",
   "execution_count": null,
   "metadata": {
    "id": "_acYTsBsxpyP"
   },
   "outputs": [],
   "source": [
    "jax.lax.with_sharding_constraint = jax.experimental.pjit.with_sharding_constraint"
   ]
  },
  {
   "cell_type": "code",
   "execution_count": null,
   "metadata": {
    "id": "KIi13NFHxz77"
   },
   "outputs": [],
   "source": [
    "sharding = PositionalSharding(mesh_utils.create_device_mesh((8,)))"
   ]
  },
  {
   "cell_type": "code",
   "execution_count": null,
   "metadata": {
    "id": "UTRs-Zf2x8oJ"
   },
   "outputs": [],
   "source": [
    "x = jax.random.normal(jax.random.PRNGKey(0), (8192, 8192))\n",
    "x = jax.device_put(x, sharding.reshape(4, 2))"
   ]
  },
  {
   "cell_type": "code",
   "execution_count": null,
   "metadata": {
    "id": "fkm3YKfZwkWt"
   },
   "outputs": [],
   "source": [
    "@jax.jit\n",
    "def f(x):\n",
    "  x = x + 1\n",
    "  y = jax.lax.with_sharding_constraint(x, sharding.reshape(2, 4))\n",
    "  return y"
   ]
  },
  {
   "cell_type": "code",
   "execution_count": null,
   "metadata": {
    "id": "tIglE_fayQqw",
    "outputId": "db786eab-94e7-47ed-9dae-a82d1ccc979f"
   },
   "outputs": [
    {
     "name": "stdout",
     "output_type": "stream",
     "text": [
      "┌──────────┬──────────┐\n",
      "│  TPU 0   │  TPU 1   │\n",
      "├──────────┼──────────┤\n",
      "│  TPU 2   │  TPU 3   │\n",
      "├──────────┼──────────┤\n",
      "│  TPU 6   │  TPU 7   │\n",
      "├──────────┼──────────┤\n",
      "│  TPU 4   │  TPU 5   │\n",
      "└──────────┴──────────┘\n",
      "┌───────┬───────┬───────┬───────┐\n",
      "│       │       │       │       │\n",
      "│ TPU 0 │ TPU 1 │ TPU 2 │ TPU 3 │\n",
      "│       │       │       │       │\n",
      "│       │       │       │       │\n",
      "├───────┼───────┼───────┼───────┤\n",
      "│       │       │       │       │\n",
      "│ TPU 6 │ TPU 7 │ TPU 4 │ TPU 5 │\n",
      "│       │       │       │       │\n",
      "│       │       │       │       │\n",
      "└───────┴───────┴───────┴───────┘\n"
     ]
    }
   ],
   "source": [
    "jax.debug.visualize_array_sharding(x)\n",
    "y = f(x)\n",
    "jax.debug.visualize_array_sharding(y)"
   ]
  },
  {
   "cell_type": "code",
   "execution_count": null,
   "metadata": {
    "id": "DzuzKQhG2QLE"
   },
   "outputs": [],
   "source": [
    "@jax.jit\n",
    "def f(x):\n",
    "  x = x + 1\n",
    "  y = jax.lax.with_sharding_constraint(x, sharding.replicate())\n",
    "  return y"
   ]
  },
  {
   "cell_type": "code",
   "execution_count": null,
   "metadata": {
    "id": "lmDxCQ1W2TlD",
    "outputId": "b8c23c00-bc35-46bc-b0a9-f8f381aa01fe"
   },
   "outputs": [
    {
     "name": "stdout",
     "output_type": "stream",
     "text": [
      "┌──────────┬──────────┐\n",
      "│  TPU 0   │  TPU 1   │\n",
      "├──────────┼──────────┤\n",
      "│  TPU 2   │  TPU 3   │\n",
      "├──────────┼──────────┤\n",
      "│  TPU 6   │  TPU 7   │\n",
      "├──────────┼──────────┤\n",
      "│  TPU 4   │  TPU 5   │\n",
      "└──────────┴──────────┘\n",
      "┌───────────────────────┐\n",
      "│                       │\n",
      "│                       │\n",
      "│                       │\n",
      "│                       │\n",
      "│  TPU 0,1,2,3,4,5,6,7  │\n",
      "│                       │\n",
      "│                       │\n",
      "│                       │\n",
      "│                       │\n",
      "└───────────────────────┘\n"
     ]
    }
   ],
   "source": [
    "jax.debug.visualize_array_sharding(x)\n",
    "y = f(x)\n",
    "jax.debug.visualize_array_sharding(y)"
   ]
  },
  {
   "cell_type": "markdown",
   "metadata": {
    "id": "_Y1P5wLTzJSz"
   },
   "source": [
    "By adding `with_sharding_constraint`, we've constrained the sharding of the output. In addition to respecting the annotation on a particular intermediate, the compiler will use annotations to decide shardings for other values.\n",
    "\n",
    "It's often a good practice to annotate the outputs of computations, for example based on how the values are ultimately consumed."
   ]
  },
  {
   "cell_type": "markdown",
   "metadata": {
    "id": "QUkXWG-baMUs"
   },
   "source": [
    "## Examples: neural networks "
   ]
  },
  {
   "cell_type": "markdown",
   "metadata": {
    "id": "g7y0OJBSGoSW"
   },
   "source": [
    "**⚠️ WARNING: The following is meant to be a demonstration of automatic sharding propagation with `jax.Array`, but it is _not a recommended practice_.**\n",
    "\n",
    "For neural network training, it is a good idea to constraint parameter and input sharding to be the same at every training step which can be achieved e.g. using `pjit`'s `out_axis_resources` parameter and `with_sharding_constraint`."
   ]
  },
  {
   "cell_type": "markdown",
   "metadata": {
    "id": "3ii_UPkG3gzP"
   },
   "source": [
    "We can use `jax.device_put` and `jax.jit`'s computation-follows-sharding features to parallelize computation in neural networks. Here are some simple examples, based on this basic neural network:"
   ]
  },
  {
   "cell_type": "code",
   "execution_count": null,
   "metadata": {
    "id": "sDAeJoNp_VyP"
   },
   "outputs": [],
   "source": [
    "import jax\n",
    "import jax.numpy as jnp"
   ]
  },
  {
   "cell_type": "code",
   "execution_count": null,
   "metadata": {
    "id": "t-J6YtpA2db0"
   },
   "outputs": [],
   "source": [
    "def predict(params, inputs):\n",
    "  for W, b in params:\n",
    "    outputs = jnp.dot(inputs, W) + b\n",
    "    inputs = jnp.maximum(outputs, 0)\n",
    "  return outputs\n",
    "\n",
    "def loss(params, batch):\n",
    "  inputs, targets = batch\n",
    "  predictions = predict(params, inputs)\n",
    "  return jnp.mean(jnp.sum((predictions - targets)**2, axis=-1))"
   ]
  },
  {
   "cell_type": "code",
   "execution_count": null,
   "metadata": {
    "id": "4USnNl6w4Y1K"
   },
   "outputs": [],
   "source": [
    "loss_jit = jax.jit(loss)\n",
    "gradfun = jax.jit(jax.grad(loss))"
   ]
  },
  {
   "cell_type": "code",
   "execution_count": null,
   "metadata": {
    "id": "nfqG0N1g2dhk"
   },
   "outputs": [],
   "source": [
    "def init_layer(key, n_in, n_out):\n",
    "    k1, k2 = jax.random.split(key)\n",
    "    W = jax.random.normal(k1, (n_in, n_out)) / jnp.sqrt(n_in)\n",
    "    b = jax.random.normal(k2, (n_out,))\n",
    "    return W, b\n",
    "\n",
    "def init_model(key, layer_sizes, batch_size):\n",
    "    key, *keys = jax.random.split(key, len(layer_sizes))\n",
    "    params = list(map(init_layer, keys, layer_sizes[:-1], layer_sizes[1:]))\n",
    "\n",
    "    key, *keys = jax.random.split(key, 3)\n",
    "    inputs = jax.random.normal(keys[0], (batch_size, layer_sizes[0]))\n",
    "    targets = jax.random.normal(keys[1], (batch_size, layer_sizes[-1]))\n",
    "\n",
    "    return params, (inputs, targets)\n",
    "\n",
    "layer_sizes = [784, 8192, 8192, 8192, 10]\n",
    "batch_size = 8192\n",
    "\n",
    "params, batch = init_model(jax.random.PRNGKey(0), layer_sizes, batch_size)"
   ]
  },
  {
   "cell_type": "markdown",
   "metadata": {
    "id": "sJv_h0AS2drh"
   },
   "source": [
    "### 8-way batch data parallelism"
   ]
  },
  {
   "cell_type": "code",
   "execution_count": null,
   "metadata": {
    "id": "uxZ4Czqyzrc5"
   },
   "outputs": [],
   "source": [
    "sharding = PositionalSharding(jax.devices()).reshape(8, 1)"
   ]
  },
  {
   "cell_type": "code",
   "execution_count": null,
   "metadata": {
    "id": "q9maIR6K4T9r"
   },
   "outputs": [],
   "source": [
    "batch = jax.device_put(batch, sharding)\n",
    "params = jax.device_put(params, sharding.replicate())"
   ]
  },
  {
   "cell_type": "code",
   "execution_count": null,
   "metadata": {
    "id": "CtKIMM6ry7Ov",
    "outputId": "d7e41395-9709-4ead-c3cd-03dd5096eafa"
   },
   "outputs": [
    {
     "data": {
      "text/plain": [
       "Array(23.469475, dtype=float32)"
      ]
     },
     "execution_count": 51,
     "metadata": {},
     "output_type": "execute_result"
    }
   ],
   "source": [
    "loss_jit(params, batch)"
   ]
  },
  {
   "cell_type": "code",
   "execution_count": null,
   "metadata": {
    "id": "tAM6NQkly8lw",
    "outputId": "cf59f694-ccae-42d5-871e-5cc10e2547ba"
   },
   "outputs": [
    {
     "name": "stdout",
     "output_type": "stream",
     "text": [
      "10.760101\n"
     ]
    }
   ],
   "source": [
    "step_size = 1e-5\n",
    "\n",
    "for _ in range(30):\n",
    "  grads = gradfun(params, batch)\n",
    "  params = [(W - step_size * dW, b - step_size * db)\n",
    "            for (W, b), (dW, db) in zip(params, grads)]\n",
    "\n",
    "print(loss_jit(params, batch))"
   ]
  },
  {
   "cell_type": "code",
   "execution_count": null,
   "metadata": {
    "id": "Eix05eVQy-LZ",
    "outputId": "dfe51c4b-edbe-4a14-81ca-7a787973f30a"
   },
   "outputs": [
    {
     "name": "stdout",
     "output_type": "stream",
     "text": [
      "5 loops, best of 5: 26.3 ms per loop\n"
     ]
    }
   ],
   "source": [
    "%timeit -n 5 -r 5 gradfun(params, batch)[0][0].block_until_ready()"
   ]
  },
  {
   "cell_type": "code",
   "execution_count": null,
   "metadata": {
    "id": "W-19ajlSy_gF"
   },
   "outputs": [],
   "source": [
    "batch_single = jax.device_put(batch, jax.devices()[0])\n",
    "params_single = jax.device_put(params, jax.devices()[0])"
   ]
  },
  {
   "cell_type": "code",
   "execution_count": null,
   "metadata": {
    "id": "DBHfeKyUzBD9",
    "outputId": "f0713c06-b3ac-4692-e30e-f33eeed34da5"
   },
   "outputs": [
    {
     "name": "stdout",
     "output_type": "stream",
     "text": [
      "5 loops, best of 5: 122 ms per loop\n"
     ]
    }
   ],
   "source": [
    "%timeit -n 5 -r 5 gradfun(params_single, batch_single)[0][0].block_until_ready()"
   ]
  },
  {
   "cell_type": "markdown",
   "metadata": {
    "id": "3AjeeB7B4NP6"
   },
   "source": [
    "### 4-way batch data parallelism and 2-way model tensor parallelism"
   ]
  },
  {
   "cell_type": "code",
   "execution_count": null,
   "metadata": {
    "id": "gw1WZyXu4owx"
   },
   "outputs": [],
   "source": [
    "sharding = sharding.reshape(4, 2)"
   ]
  },
  {
   "cell_type": "code",
   "execution_count": null,
   "metadata": {
    "id": "P0s_ibu8z0hW",
    "outputId": "24588445-88e3-4563-c9bd-d6847f5453a9"
   },
   "outputs": [
    {
     "name": "stdout",
     "output_type": "stream",
     "text": [
      "┌───────┐\n",
      "│TPU 0,1│\n",
      "├───────┤\n",
      "│TPU 2,3│\n",
      "├───────┤\n",
      "│TPU 4,5│\n",
      "├───────┤\n",
      "│TPU 6,7│\n",
      "└───────┘\n",
      "┌───────┐\n",
      "│TPU 0,1│\n",
      "├───────┤\n",
      "│TPU 2,3│\n",
      "├───────┤\n",
      "│TPU 4,5│\n",
      "├───────┤\n",
      "│TPU 6,7│\n",
      "└───────┘\n"
     ]
    }
   ],
   "source": [
    "batch = jax.device_put(batch, sharding.replicate(1))\n",
    "jax.debug.visualize_array_sharding(batch[0])\n",
    "jax.debug.visualize_array_sharding(batch[1])"
   ]
  },
  {
   "cell_type": "code",
   "execution_count": null,
   "metadata": {
    "id": "7kNJVPBjz5nq"
   },
   "outputs": [],
   "source": [
    "(W1, b1), (W2, b2), (W3, b3), (W4, b4) = params\n",
    "\n",
    "W1 = jax.device_put(W1, sharding.replicate())\n",
    "b1 = jax.device_put(b1, sharding.replicate())\n",
    "\n",
    "W2 = jax.device_put(W2, sharding.replicate(0))\n",
    "b2 = jax.device_put(b2, sharding.replicate(0))\n",
    "\n",
    "W3 = jax.device_put(W3, sharding.replicate(0).T)\n",
    "b3 = jax.device_put(b3, sharding.replicate())\n",
    "\n",
    "W4 = jax.device_put(W4, sharding.replicate())\n",
    "b4 = jax.device_put(b4, sharding.replicate())\n",
    "\n",
    "params = (W1, b1), (W2, b2), (W3, b3), (W4, b4)"
   ]
  },
  {
   "cell_type": "code",
   "execution_count": null,
   "metadata": {
    "id": "I8ZJiiGb0HJk",
    "outputId": "49789525-1e02-4e69-ab2a-987387e051c3"
   },
   "outputs": [
    {
     "name": "stdout",
     "output_type": "stream",
     "text": [
      "┌───────────┬───────────┐\n",
      "│           │           │\n",
      "│           │           │\n",
      "│           │           │\n",
      "│           │           │\n",
      "│TPU 0,2,4,6│TPU 1,3,5,7│\n",
      "│           │           │\n",
      "│           │           │\n",
      "│           │           │\n",
      "│           │           │\n",
      "└───────────┴───────────┘\n"
     ]
    }
   ],
   "source": [
    "jax.debug.visualize_array_sharding(W2)"
   ]
  },
  {
   "cell_type": "code",
   "execution_count": null,
   "metadata": {
    "id": "t2fsJ_Ow0LgK",
    "outputId": "6f8fbff9-74ee-4191-f5af-1e1882628230"
   },
   "outputs": [
    {
     "name": "stdout",
     "output_type": "stream",
     "text": [
      "┌───────────────────────┐\n",
      "│                       │\n",
      "│      TPU 0,2,4,6      │\n",
      "│                       │\n",
      "│                       │\n",
      "├───────────────────────┤\n",
      "│                       │\n",
      "│      TPU 1,3,5,7      │\n",
      "│                       │\n",
      "│                       │\n",
      "└───────────────────────┘\n"
     ]
    }
   ],
   "source": [
    "jax.debug.visualize_array_sharding(W3)"
   ]
  },
  {
   "cell_type": "code",
   "execution_count": null,
   "metadata": {
    "id": "xnNgGB7-0Nh4",
    "outputId": "e3470e88-d0c9-4f4a-e861-5a8dc2a6c164"
   },
   "outputs": [
    {
     "name": "stdout",
     "output_type": "stream",
     "text": [
      "10.760103\n"
     ]
    }
   ],
   "source": [
    "print(loss_jit(params, batch))"
   ]
  },
  {
   "cell_type": "code",
   "execution_count": null,
   "metadata": {
    "id": "ygV3-IBV0Qx3"
   },
   "outputs": [],
   "source": [
    "step_size = 1e-5\n",
    "\n",
    "for _ in range(30):\n",
    "    grads = gradfun(params, batch)\n",
    "    params = [(W - step_size * dW, b - step_size * db)\n",
    "              for (W, b), (dW, db) in zip(params, grads)]"
   ]
  },
  {
   "cell_type": "code",
   "execution_count": null,
   "metadata": {
    "id": "VWXN24Xh0Tkc",
    "outputId": "0696952f-efa8-4e4c-ee57-6546b75eafdb"
   },
   "outputs": [
    {
     "name": "stdout",
     "output_type": "stream",
     "text": [
      "10.752466\n"
     ]
    }
   ],
   "source": [
    "print(loss_jit(params, batch))"
   ]
  },
  {
   "cell_type": "code",
   "execution_count": null,
   "metadata": {
    "id": "Cq3TzYU70Vfd",
    "outputId": "3a956c68-498d-439f-c621-bf0f9339dc0b"
   },
   "outputs": [
    {
     "name": "stdout",
     "output_type": "stream",
     "text": [
      "┌───────────┬───────────┐\n",
      "│           │           │\n",
      "│           │           │\n",
      "│           │           │\n",
      "│           │           │\n",
      "│TPU 0,2,4,6│TPU 1,3,5,7│\n",
      "│           │           │\n",
      "│           │           │\n",
      "│           │           │\n",
      "│           │           │\n",
      "└───────────┴───────────┘\n",
      "┌───────────────────────┐\n",
      "│                       │\n",
      "│      TPU 0,2,4,6      │\n",
      "│                       │\n",
      "│                       │\n",
      "├───────────────────────┤\n",
      "│                       │\n",
      "│      TPU 1,3,5,7      │\n",
      "│                       │\n",
      "│                       │\n",
      "└───────────────────────┘\n"
     ]
    }
   ],
   "source": [
    "(W1, b1), (W2, b2), (W3, b3), (W4, b4) = params\n",
    "jax.debug.visualize_array_sharding(W2)\n",
    "jax.debug.visualize_array_sharding(W3)"
   ]
  },
  {
   "cell_type": "code",
   "execution_count": null,
   "metadata": {
    "id": "hAeLBs9D0Z8T",
    "outputId": "4c2cb486-1ede-4b64-d2f6-2236c99bc882"
   },
   "outputs": [
    {
     "name": "stdout",
     "output_type": "stream",
     "text": [
      "10 loops, best of 10: 30.7 ms per loop\n"
     ]
    }
   ],
   "source": [
    "%timeit -n 10 -r 10 gradfun(params, batch)[0][0].block_until_ready()"
   ]
  }
 ],
 "metadata": {
  "colab": {
   "provenance": [],
   "toc_visible": true
  },
  "gpuClass": "standard",
  "jupytext": {
   "formats": "ipynb,md:myst"
  },
  "kernelspec": {
   "display_name": "Python 3",
   "name": "python3"
  },
  "language_info": {
   "name": "python"
  }
 },
 "nbformat": 4,
 "nbformat_minor": 0
}
