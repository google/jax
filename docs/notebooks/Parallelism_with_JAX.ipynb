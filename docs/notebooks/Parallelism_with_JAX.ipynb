{
 "cells": [
  {
   "cell_type": "markdown",
   "id": "047cf630",
   "metadata": {},
   "source": [
    "## Notebook moved!\n",
    "It moved to [Distributed arrays and automatic\n",
    "parallelization](https://jax.readthedocs.io/en/latest/notebooks/Distributed_arrays_and_automatic_parallelization.html)."
   ]
  }
 ],
 "metadata": {
  "jupytext": {
   "cell_metadata_filter": "-all",
   "formats": "ipynb,md:myst",
   "main_language": "python"
  }
 },
 "nbformat": 4,
 "nbformat_minor": 5
}
