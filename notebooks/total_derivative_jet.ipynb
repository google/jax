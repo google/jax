{
 "cells": [
  {
   "cell_type": "markdown",
   "metadata": {
    "collapsed": true
   },
   "source": [
    "# Total time derivative $\\frac{d^n z(t)}{d t^n}$ with `jet`\n",
    "\n",
    "Given the initial value problem defined by the dynamics\n",
    "$$ z'(t) = \\frac{\\partial z}{\\partial t} = f(z(t),t) $$\n",
    "and initial conditions $z_0$ at $t_0$. \n",
    "\n",
    "We have the solution $$z(t) = z_0 + \\int_{t_0}^t f(z(s),s) ds$$\n",
    "\n",
    "We are interested in computing the $n$th time derivative of the solution $z(t)$: $$\\frac{d^n z(t)}{d t^n}$$"
   ]
  },
  {
   "cell_type": "markdown",
   "metadata": {},
   "source": [
    "## Autonomous System\n",
    "\n",
    "To simplify things lets consider an autonomous system, one whose dynamics are time invariant:\n",
    "$$ z'(t) = \\frac{\\partial z}{\\partial t} = f(z(t),t) = g(z(t)) $$\n",
    "\n",
    "To allow us to test correctness we consider a simple dynamical system,\n",
    "$$g(z(t)) = 0.5 z$$\n",
    "which has a closed form solution\n",
    "$$z(t) = \\exp[0.5t-0.5t_0]*z_0$$"
   ]
  },
  {
   "cell_type": "code",
   "execution_count": 1,
   "metadata": {},
   "outputs": [
    {
     "name": "stderr",
     "output_type": "stream",
     "text": [
      "/Users/jesse/pensieve/jax/jax/lib/xla_bridge.py:114: UserWarning: No GPU/TPU found, falling back to CPU.\n",
      "  warnings.warn('No GPU/TPU found, falling back to CPU.')\n"
     ]
    }
   ],
   "source": [
    "import jax.numpy as np\n",
    "from jax import grad\n",
    "from scipy.integrate import odeint\n",
    "\n",
    "## Initial Value Problem\n",
    "\n",
    "# Dynamics\n",
    "def f(z,t):\n",
    "    return g(z)\n",
    "def g(z):\n",
    "    return 0.5*z\n",
    "\n",
    "# Initial Conditions\n",
    "t0, z0 = 2., 1.\n",
    "\n",
    "# Closed form solution\n",
    "def sol(t):\n",
    "    return np.exp(0.5*t - 0.5*t0) * z0\n",
    "\n",
    "# We evaluate our solution at a given time\n",
    "t_eval = 4.\n",
    "z_eval = sol(t_eval)\n",
    "\n",
    "# Confirm the correctness of closed-form\n",
    "assert np.isclose(odeint(f, z0, [t0, t_eval])[1], z_eval)"
   ]
  },
  {
   "cell_type": "markdown",
   "metadata": {},
   "source": [
    "## Total time-derivatives of the solution\n",
    "Since we have access to closed-form solution we can nest jax.grad to compute the nth derivative"
   ]
  },
  {
   "cell_type": "code",
   "execution_count": 2,
   "metadata": {},
   "outputs": [
    {
     "name": "stdout",
     "output_type": "stream",
     "text": [
      "[DeviceArray(2.7182817, dtype=float32), DeviceArray(1.3591409, dtype=float32), DeviceArray(0.67957044, dtype=float32), DeviceArray(0.33978522, dtype=float32), DeviceArray(0.16989261, dtype=float32)]\n"
     ]
    }
   ],
   "source": [
    "def nest(f, n): # why do I have to implement this :(\n",
    "    def rfun(p):\n",
    "        return reduce(lambda x, _: f(x), xrange(n), p)\n",
    "    return rfun\n",
    "\n",
    "def n_grad(f,x,n):\n",
    "    return nest(grad,n)(f)(x)\n",
    "\n",
    "# This is the primal and first 4 derivatives of the solution\n",
    "n_grads = [n_grad(sol,t_eval,i) for i in range(0,5)]\n",
    "print n_grads"
   ]
  },
  {
   "cell_type": "markdown",
   "metadata": {},
   "source": [
    "## Taylor's Method\n",
    "\n",
    "Unfortunately, we are rarely interested in systems with known closed-form solutions. Instead we only have access to $f(z,t) = g(z)$ and the current state `z_eval`. We could take gradients through the numerical solve, and for the $n$th order, nest these. But we want to avoid this.\n",
    "\n",
    "Consider the input state $z_0$, which will be carrying its own higher-order sensitvity terms $(z_1,z_2,\\dots, z_d)$. So,\n",
    "\n",
    "$$ z_0(t) = z_0 +  z_1 t + z_2 t^2  + \\cdots + z_d t^d $$\n",
    "\n",
    "Then Taylor's method gives us an $O(t^d)$ approximation to the solution\n",
    "\n",
    "$$g(z_0(t)) = v_0 + v_1 t + v_2 t^2 + \\cdots + v_d t^d $$\n",
    "\n",
    "Where \n",
    "$$\n",
    "\\begin{align}\n",
    "v_0 &= g(z_0)\\\\\n",
    "v_1 &= g'(z_0) z_1\\\\\n",
    "v_2 &= g'(z_0) z_2 + \\frac{1}{2} g''(z_0) z_1 z_1\\\\\n",
    "v_3 &= g'(z_0) z_3 + g''(z_0) z_1 z_2 + \\frac{1}{6} g'''(z_0)z_1 z_1 z_1\\\\\n",
    "\\dots\n",
    "\\end{align}\n",
    "$$\n",
    "\n",
    "Computing the resulting coefficients $v_0 \\dots v_d$ is the purpose of `jet`, which shares work in operations common accross the $v_i$s, e.g. sharing $g'(z_0)$."
   ]
  },
  {
   "cell_type": "code",
   "execution_count": null,
   "metadata": {},
   "outputs": [],
   "source": []
  },
  {
   "cell_type": "markdown",
   "metadata": {},
   "source": [
    "# Jet\n",
    "\n",
    "We can use `jet` to compute higher order sensitivities of a function with sensitivity vectors `v`. The `n`th component of the terms returned by jet corresponds to\n",
    "$$ jet_n(f,x,v) = \\frac{\\partial^n}{\\partial \\epsilon^n} f(x + v_1 * \\epsilon + v_2 * \\frac{\\epsilon^2}{2!} + \\dots)|_{\\epsilon = 0}$$"
   ]
  },
  {
   "cell_type": "code",
   "execution_count": 3,
   "metadata": {},
   "outputs": [
    {
     "name": "stdout",
     "output_type": "stream",
     "text": [
      "True\n",
      "True\n",
      "True\n",
      "True\n"
     ]
    }
   ],
   "source": [
    "from jax import jet\n",
    "import numpy.random as npr\n",
    "from scipy.special import factorial as fact\n",
    "\n",
    "def taylor_expansion(f,primals,series):\n",
    "    def expansion(eps):\n",
    "        tayterms = [\n",
    "        sum([eps**(i + 1) * terms[i] / fact(i + 1) for i in range(len(terms))])\n",
    "        for terms in series\n",
    "    ]\n",
    "        return f(*map(sum, zip(primals, tayterms)))\n",
    "    return expansion\n",
    "\n",
    "order = 4\n",
    "vs = list(npr.randn(order))\n",
    "jet_primal, jet_coefs = jet(g,(z_eval,),(vs,))\n",
    "\n",
    "print np.isclose(taylor_expansion(g,(z_eval,),(vs,))(0.),jet_primal)\n",
    "print np.isclose(grad(taylor_expansion(g,(z_eval,),(vs,)))(0.), jet_coefs[0])\n",
    "print np.isclose(grad(grad(taylor_expansion(g,(z_eval,),(vs,))))(0.), jet_coefs[1])\n",
    "print np.isclose(grad(grad(grad(taylor_expansion(g,(z_eval,),(vs,)))))(0.),jet_coefs[2])"
   ]
  },
  {
   "cell_type": "code",
   "execution_count": 4,
   "metadata": {},
   "outputs": [
    {
     "name": "stdout",
     "output_type": "stream",
     "text": [
      "[DeviceArray(0.5, dtype=float32), DeviceArray(0., dtype=float32), DeviceArray(0., dtype=float32)]\n"
     ]
    },
    {
     "data": {
      "text/plain": [
       "DeviceArray(1.3591409, dtype=float32)"
      ]
     },
     "execution_count": 4,
     "metadata": {},
     "output_type": "execute_result"
    }
   ],
   "source": [
    "jet_primal, jet_coefs = jet(g,(z_eval,),((1.,0.,0.),))\n",
    "print jet_coefs\n",
    "\n",
    "def k_test(f,x,s,k):\n",
    "    expand = lambda t: f(x+t*s)\n",
    "    ds = nest(grad,k)(expand)(0.)\n",
    "    return 1/fact(k) * ds\n",
    "\n",
    "k_test(g,z_eval,1.,0)"
   ]
  },
  {
   "cell_type": "markdown",
   "metadata": {},
   "source": [
    "## Jet for Total Derivatives\n",
    "\n",
    "Calling `jet` with \"standard\" sentivitiy terms `(1.,0.,0.,...)` corresponds to the expansion"
   ]
  },
  {
   "cell_type": "code",
   "execution_count": 5,
   "metadata": {},
   "outputs": [
    {
     "ename": "NameError",
     "evalue": "name 'z_terms' is not defined",
     "output_type": "error",
     "traceback": [
      "\u001b[0;31m---------------------------------------------------------------------------\u001b[0m",
      "\u001b[0;31mNameError\u001b[0m                                 Traceback (most recent call last)",
      "\u001b[0;32m<ipython-input-5-cef0aa651fdb>\u001b[0m in \u001b[0;36m<module>\u001b[0;34m()\u001b[0m\n\u001b[1;32m     10\u001b[0m     \u001b[0;32mreturn\u001b[0m \u001b[0;34m[\u001b[0m\u001b[0mnp\u001b[0m\u001b[0;34m.\u001b[0m\u001b[0mzeros_like\u001b[0m\u001b[0;34m(\u001b[0m\u001b[0mx\u001b[0m\u001b[0;34m)\u001b[0m\u001b[0;34m]\u001b[0m \u001b[0;34m*\u001b[0m \u001b[0mn\u001b[0m\u001b[0;34m\u001b[0m\u001b[0m\n\u001b[1;32m     11\u001b[0m \u001b[0;34m\u001b[0m\u001b[0m\n\u001b[0;32m---> 12\u001b[0;31m \u001b[0mj1\u001b[0m \u001b[0;34m=\u001b[0m \u001b[0mjet\u001b[0m\u001b[0;34m(\u001b[0m\u001b[0mg\u001b[0m\u001b[0;34m,\u001b[0m\u001b[0;34m(\u001b[0m\u001b[0mz_eval\u001b[0m\u001b[0;34m,\u001b[0m\u001b[0;34m)\u001b[0m\u001b[0;34m,\u001b[0m\u001b[0;34m(\u001b[0m\u001b[0mz_terms\u001b[0m\u001b[0;34m,\u001b[0m\u001b[0;34m)\u001b[0m\u001b[0;34m)\u001b[0m\u001b[0;34m\u001b[0m\u001b[0m\n\u001b[0m\u001b[1;32m     13\u001b[0m \u001b[0;32mprint\u001b[0m \u001b[0mj1\u001b[0m\u001b[0;34m\u001b[0m\u001b[0m\n\u001b[1;32m     14\u001b[0m \u001b[0;34m\u001b[0m\u001b[0m\n",
      "\u001b[0;31mNameError\u001b[0m: name 'z_terms' is not defined"
     ]
    }
   ],
   "source": [
    "def shift_jet(old_jet):\n",
    "    return [old_jet[0]] + old_jet[1]\n",
    "\n",
    "\n",
    "def std_terms(x, n):\n",
    "    return [np.ones_like(x)] + [np.zeros_like(x)] * (n - 1)\n",
    "\n",
    "\n",
    "def zero_terms(x, n):\n",
    "    return [np.zeros_like(x)] * n\n"
   ]
  },
  {
   "cell_type": "code",
   "execution_count": 114,
   "metadata": {},
   "outputs": [
    {
     "data": {
      "text/plain": [
       "[DeviceArray(1.3591409, dtype=float32), DeviceArray(0.5, dtype=float32)]"
      ]
     },
     "execution_count": 114,
     "metadata": {},
     "output_type": "execute_result"
    }
   ],
   "source": []
  },
  {
   "cell_type": "code",
   "execution_count": 104,
   "metadata": {},
   "outputs": [
    {
     "data": {
      "text/plain": [
       "DeviceArray(2.7182817, dtype=float32)"
      ]
     },
     "execution_count": 104,
     "metadata": {},
     "output_type": "execute_result"
    }
   ],
   "source": []
  },
  {
   "cell_type": "code",
   "execution_count": null,
   "metadata": {},
   "outputs": [],
   "source": []
  },
  {
   "cell_type": "code",
   "execution_count": 32,
   "metadata": {},
   "outputs": [],
   "source": [
    "def make_derivs_sol(primals,order):\n",
    "    fst_vs = jet(g,primals,((1.,2),))\n",
    "    snd_vs = jet(g,primals,(shift_jet(fst_vs),))\n",
    "    thd_vs = jet(g,primals,(shift_jet(snd_vs),))\n",
    "    return [fst_vs, snd_vs, thd_vs]"
   ]
  },
  {
   "cell_type": "code",
   "execution_count": 33,
   "metadata": {},
   "outputs": [
    {
     "data": {
      "text/plain": [
       "[(DeviceArray(1.3591409, dtype=float32),\n",
       "  [DeviceArray(0.5, dtype=float32), DeviceArray(1., dtype=float32)]),\n",
       " (DeviceArray(1.3591409, dtype=float32),\n",
       "  [DeviceArray(0.67957044, dtype=float32),\n",
       "   DeviceArray(0.25, dtype=float32),\n",
       "   DeviceArray(0.5, dtype=float32)]),\n",
       " (DeviceArray(1.3591409, dtype=float32),\n",
       "  [DeviceArray(0.67957044, dtype=float32),\n",
       "   DeviceArray(0.33978522, dtype=float32),\n",
       "   DeviceArray(0.125, dtype=float32),\n",
       "   DeviceArray(0.25, dtype=float32)])]"
      ]
     },
     "execution_count": 33,
     "metadata": {},
     "output_type": "execute_result"
    }
   ],
   "source": [
    "make_derivs_sol((z_eval,),1)"
   ]
  },
  {
   "cell_type": "code",
   "execution_count": 21,
   "metadata": {},
   "outputs": [
    {
     "data": {
      "text/plain": [
       "DeviceArray(1.3591409, dtype=float32)"
      ]
     },
     "execution_count": 21,
     "metadata": {},
     "output_type": "execute_result"
    }
   ],
   "source": [
    "g(z_eval)"
   ]
  },
  {
   "cell_type": "code",
   "execution_count": 22,
   "metadata": {},
   "outputs": [
    {
     "data": {
      "text/plain": [
       "[DeviceArray(1.3591409, dtype=float32),\n",
       " DeviceArray(0.67957044, dtype=float32),\n",
       " DeviceArray(0.33978522, dtype=float32),\n",
       " DeviceArray(0.16989261, dtype=float32)]"
      ]
     },
     "execution_count": 22,
     "metadata": {},
     "output_type": "execute_result"
    }
   ],
   "source": [
    "n_grads[1:]"
   ]
  },
  {
   "cell_type": "code",
   "execution_count": 29,
   "metadata": {},
   "outputs": [
    {
     "data": {
      "text/plain": [
       "DeviceArray(2.0387113, dtype=float32)"
      ]
     },
     "execution_count": 29,
     "metadata": {},
     "output_type": "execute_result"
    }
   ],
   "source": [
    "nest(grad,2)(taylor_expansion(sol,(t_eval,),((1.,1.,0.),)))(0.)"
   ]
  },
  {
   "cell_type": "code",
   "execution_count": 89,
   "metadata": {},
   "outputs": [],
   "source": [
    "u0 =2.\n",
    "u1 = 1.\n",
    "u2 = 0.\n",
    "u3= 0.\n",
    "\n",
    "u1t = u1\n",
    "u2t = u2*2\n",
    "u3t = u3*3"
   ]
  },
  {
   "cell_type": "code",
   "execution_count": 90,
   "metadata": {},
   "outputs": [
    {
     "data": {
      "text/plain": [
       "(DeviceArray(0.9092974, dtype=float32),\n",
       " [DeviceArray(-0.37840125, dtype=float32),\n",
       "  DeviceArray(-0.5943564, dtype=float32),\n",
       "  DeviceArray(1.4922845, dtype=float32)])"
      ]
     },
     "execution_count": 90,
     "metadata": {},
     "output_type": "execute_result"
    }
   ],
   "source": [
    "def total_jet(f,primals,series):\n",
    "    j1 = jet(f,primals,series)\n",
    "    j2 = jet(f,primals,(shift_jet(j1),))\n",
    "    j3 = jet(f,primals,(shift_jet(j2),))\n",
    "    return (j3[0],j3[1][:3])\n",
    "\n",
    "total_jet(np.sin,(u0,),((u1,u2,u3),))"
   ]
  },
  {
   "cell_type": "code",
   "execution_count": 96,
   "metadata": {},
   "outputs": [],
   "source": [
    "s0 = np.sin(u0)\n",
    "c0 = np.cos(u0)\n",
    "c1t = -u1t*s0\n",
    "s1t = -u1t*c0\n",
    "\n",
    "s1 = s1t\n",
    "c1 = c1t\n",
    "\n",
    "c2t = -u1t*s1 - u2t*s0\n",
    "c2 = c2t/2\n",
    "s3t = u1t*c2 + u2t*c1 + u3t * c0\n",
    "\n",
    "s2t = u1t*c1 + u2t*c0"
   ]
  },
  {
   "cell_type": "code",
   "execution_count": 99,
   "metadata": {},
   "outputs": [
    {
     "data": {
      "text/plain": [
       "DeviceArray(-0.9092974, dtype=float32)"
      ]
     },
     "execution_count": 99,
     "metadata": {},
     "output_type": "execute_result"
    }
   ],
   "source": [
    "s2t/2 * fact(2)"
   ]
  },
  {
   "cell_type": "code",
   "execution_count": 98,
   "metadata": {},
   "outputs": [
    {
     "data": {
      "text/plain": [
       "(DeviceArray(0.9092974, dtype=float32),\n",
       " [DeviceArray(-0.41614684, dtype=float32),\n",
       "  DeviceArray(-0.9092974, dtype=float32),\n",
       "  DeviceArray(0.41614684, dtype=float32)])"
      ]
     },
     "execution_count": 98,
     "metadata": {},
     "output_type": "execute_result"
    }
   ],
   "source": [
    "jet(np.sin,(u0,),((u1,u2,u3),))"
   ]
  },
  {
   "cell_type": "code",
   "execution_count": 102,
   "metadata": {},
   "outputs": [
    {
     "data": {
      "text/plain": [
       "DeviceArray(0.41614684, dtype=float32)"
      ]
     },
     "execution_count": 102,
     "metadata": {},
     "output_type": "execute_result"
    }
   ],
   "source": [
    "s3t/3*fact(3)\n",
    "s1t"
   ]
  },
  {
   "cell_type": "code",
   "execution_count": null,
   "metadata": {},
   "outputs": [],
   "source": []
  }
 ],
 "metadata": {
  "@webio": {
   "lastCommId": null,
   "lastKernelId": null
  },
  "kernelspec": {
   "display_name": "Python [conda env:jaxde] *",
   "language": "python",
   "name": "conda-env-jaxde-py"
  },
  "language_info": {
   "codemirror_mode": {
    "name": "ipython",
    "version": 2
   },
   "file_extension": ".py",
   "mimetype": "text/x-python",
   "name": "python",
   "nbconvert_exporter": "python",
   "pygments_lexer": "ipython2",
   "version": "2.7.16"
  }
 },
 "nbformat": 4,
 "nbformat_minor": 2
}
