{
 "cells": [
  {
   "cell_type": "markdown",
   "metadata": {
    "collapsed": true
   },
   "source": [
    "# Total time derivative $\\frac{d^n z(t)}{d t^n}$ with `jet`\n",
    "\n",
    "Given the initial value problem defined by the dynamics\n",
    "$$ z'(t) = \\frac{\\partial z}{\\partial t} = f(z(t),t) $$\n",
    "and initial conditions $z_0$ at $t_0$. \n",
    "\n",
    "We have the solution $$z(t) = z_0 + \\int_{t_0}^t f(z(s),s) ds$$\n",
    "\n",
    "We are interested in computing the $n$th time derivative of the solution $z(t)$: $$\\frac{d^n z(t)}{d t^n}$$"
   ]
  },
  {
   "cell_type": "markdown",
   "metadata": {},
   "source": [
    "## Autonomous System\n",
    "\n",
    "To simplify things lets consider an autonomous system, one whose dynamics are time invariant:\n",
    "$$ z'(t) = \\frac{\\partial z}{\\partial t} = f(z(t),t) = g(z(t)) $$\n",
    "\n",
    "To allow us to test correctness we consider a simple dynamical system,\n",
    "$$g(z(t)) = 0.5 z$$\n",
    "which has a closed form solution\n",
    "$$z(t) = \\exp[0.5t-0.5t_0]*z_0$$"
   ]
  },
  {
   "cell_type": "code",
   "execution_count": 31,
   "metadata": {},
   "outputs": [],
   "source": [
    "import jax.numpy as np\n",
    "from jax import grad\n",
    "from scipy.integrate import odeint\n",
    "\n",
    "## Initial Value Problem\n",
    "\n",
    "# Dynamics\n",
    "def f(z,t):\n",
    "    return g(z)\n",
    "def g(z):\n",
    "    return 0.5*z\n",
    "\n",
    "# Initial Conditions\n",
    "t0, z0 = 2., 1.\n",
    "\n",
    "# Closed form solution\n",
    "def sol(t):\n",
    "    return np.exp(0.5*t - 0.5*t0) * z0\n",
    "\n",
    "# We evaluate our solution at a given time\n",
    "t_eval = 4.\n",
    "z_eval = sol(t_eval)\n",
    "\n",
    "# Confirm the correctness of closed-form\n",
    "assert np.isclose(odeint(f, z0, [t0, t_eval])[1], z_eval)"
   ]
  },
  {
   "cell_type": "markdown",
   "metadata": {},
   "source": [
    "## Total time-derivatives of the solution\n",
    "Since we have access to closed-form solution we can nest jax.grad to compute the nth derivative"
   ]
  },
  {
   "cell_type": "code",
   "execution_count": 32,
   "metadata": {},
   "outputs": [
    {
     "name": "stdout",
     "output_type": "stream",
     "text": [
      "[DeviceArray(2.7182817, dtype=float32), DeviceArray(1.3591409, dtype=float32), DeviceArray(0.67957044, dtype=float32), DeviceArray(0.33978522, dtype=float32), DeviceArray(0.16989261, dtype=float32)]\n"
     ]
    }
   ],
   "source": [
    "def nest(f, n): # why do I have to implement this :(\n",
    "    def rfun(p):\n",
    "        return reduce(lambda x, _: f(x), xrange(n), p)\n",
    "    return rfun\n",
    "\n",
    "def n_grad(f,x,n):\n",
    "    return nest(grad,n)(f)(x)\n",
    "\n",
    "# This is the primal and first 4 derivatives of the solution\n",
    "n_grads = [n_grad(sol,t_eval,i) for i in range(0,5)]\n",
    "print n_grads"
   ]
  },
  {
   "cell_type": "markdown",
   "metadata": {},
   "source": [
    "## Taylor's Method\n",
    "\n",
    "Unfortunately, we are rarely interested in systems with known closed-form solutions. Instead we only have access to $f(z,t) = g(z)$ and the current state `z_eval`. We could take gradients through the numerical solve, and for the $n$th order, nest these. But we want to avoid this.\n",
    "\n",
    "Consider the input state $z_0$, which will be carrying its own higher-order sensitvity terms $(z_1,z_2,\\dots, z_d)$. So,\n",
    "\n",
    "$$ z_0(t) = z_0 +  z_1 t + z_2 t^2  + \\cdots + z_d t^d $$\n",
    "\n",
    "Then Taylor's method gives us an $O(t^d)$ approximation to the solution\n",
    "\n",
    "$$g(z_0(t)) = v_0 + v_1 t + v_2 t^2 + \\cdots + v_d t^d $$\n",
    "\n",
    "Where \n",
    "$$\n",
    "\\begin{align}\n",
    "v_0 &= g(z_0)\\\\\n",
    "v_1 &= g'(z_0) z_1\\\\\n",
    "v_2 &= g'(z_0) z_2 + \\frac{1}{2} g''(z_0) z_1 z_1\\\\\n",
    "v_3 &= g'(z_0) z_3 + g''(z_0) z_1 z_2 + \\frac{1}{6} g'''(z_0)z_1 z_1 z_1\\\\\n",
    "\\dots\n",
    "\\end{align}\n",
    "$$\n",
    "\n",
    "Computing the resulting coefficients $v_0 \\dots v_d$ is the purpose of `jet`, which shares work in operations common accross the $v_i$s, e.g. sharing $g'(z_0)$."
   ]
  },
  {
   "cell_type": "markdown",
   "metadata": {},
   "source": [
    "# Jet\n",
    "\n",
    "We can use `jet` to compute higher order sensitivities of a function with sensitivity vectors `v`. The `n`th component of the terms returned by jet corresponds to\n",
    "$$ jet_n(f,x,v) = \\frac{\\partial^n}{\\partial \\epsilon^n} f(x + v_1 * \\epsilon + v_2 * \\frac{\\epsilon^2}{2!} + \\dots)|_{\\epsilon = 0}$$"
   ]
  },
  {
   "cell_type": "code",
   "execution_count": 85,
   "metadata": {},
   "outputs": [
    {
     "name": "stdout",
     "output_type": "stream",
     "text": [
      "True\n",
      "True\n",
      "True\n",
      "True\n"
     ]
    }
   ],
   "source": [
    "from jax import jet\n",
    "import numpy.random as npr\n",
    "from scipy.special import factorial as fact\n",
    "\n",
    "def taylor_expansion(f,primals,series):\n",
    "    def expansion(eps):\n",
    "        tayterms = [\n",
    "        sum([eps**(i + 1) * terms[i] / fact(i + 1) for i in range(len(terms))])\n",
    "        for terms in series\n",
    "    ]\n",
    "        return f(*map(sum, zip(primals, tayterms)))\n",
    "    return expansion\n",
    "\n",
    "order = 4\n",
    "vs = list(npr.randn(order))\n",
    "jet_primal, jet_coefs = jet(g,(z_eval,),(vs,))\n",
    "\n",
    "print np.isclose(taylor_expansion(g,(z_eval,),(vs,))(0.),jet_primal)\n",
    "print np.isclose(grad(taylor_expansion(g,(z_eval,),(vs,)))(0.), jet_coefs[0])\n",
    "print np.isclose(grad(grad(taylor_expansion(g,(z_eval,),(vs,))))(0.), jet_coefs[1])\n",
    "print np.isclose(grad(grad(grad(taylor_expansion(g,(z_eval,),(vs,)))))(0.),jet_coefs[2])"
   ]
  },
  {
   "cell_type": "markdown",
   "metadata": {},
   "source": [
    "## Jet for Total Derivatives\n",
    "\n",
    "Calling `jet` with \"standard\" sentivitiy terms `(1.,0.,0.,...)` corresponds to the expansion"
   ]
  },
  {
   "cell_type": "code",
   "execution_count": 121,
   "metadata": {},
   "outputs": [
    {
     "name": "stdout",
     "output_type": "stream",
     "text": [
      "\n",
      " First pass\n",
      "\n",
      "[Const(1.0), Const(0.0), Const(0.0)]\n",
      "(DeviceArray(1.3591409, dtype=float32), [DeviceArray(0.5, dtype=float32), DeviceArray(0., dtype=float32), DeviceArray(0., dtype=float32)])\n",
      "\n",
      " Second pass\n",
      "\n",
      "[DeviceArray(1.3591409, dtype=float32), DeviceArray(0.5, dtype=float32), DeviceArray(0., dtype=float32), DeviceArray(0., dtype=float32)]\n",
      "(DeviceArray(1.3591409, dtype=float32), [DeviceArray(0.67957044, dtype=float32), DeviceArray(0.25, dtype=float32), DeviceArray(0., dtype=float32), DeviceArray(0., dtype=float32)])\n",
      "\n",
      " Third pass\n",
      "\n",
      "[DeviceArray(1.3591409, dtype=float32), DeviceArray(0.67957044, dtype=float32), DeviceArray(0.25, dtype=float32), DeviceArray(0., dtype=float32), DeviceArray(0., dtype=float32)]\n",
      "(DeviceArray(1.3591409, dtype=float32), [DeviceArray(0.67957044, dtype=float32), DeviceArray(0.33978522, dtype=float32), DeviceArray(0.125, dtype=float32), DeviceArray(0., dtype=float32), DeviceArray(0., dtype=float32)])\n"
     ]
    }
   ],
   "source": [
    "def shift_jet(old_jet):\n",
    "    return [old_jet[0]] + old_jet[1]\n",
    "\n",
    "\n",
    "def std_terms(x, n):\n",
    "    return [np.ones_like(x)] + [np.zeros_like(x)] * (n - 1)\n",
    "\n",
    "\n",
    "def zero_terms(x, n):\n",
    "    return [np.zeros_like(x)] * n\n",
    "\n",
    "\n",
    "\n",
    "print \"\\n First pass\\n\"\n",
    "z_terms = std_terms(z_eval,3)\n",
    "j1 = jet(g,(z_eval,),(z_terms,))\n",
    "print z_terms\n",
    "print j1\n",
    "\n",
    "\n",
    "\n",
    "print \"\\n Second pass\\n\"\n",
    "z_terms = shift_jet(j1)\n",
    "j2 = jet(g,(z_eval,),(z_terms,))\n",
    "print z_terms\n",
    "print j2\n",
    "\n",
    "print \"\\n Third pass\\n\"\n",
    "z_terms = shift_jet(j2)\n",
    "j3 = jet(g,(z_eval,),(z_terms,))\n",
    "print z_terms\n",
    "print j3"
   ]
  },
  {
   "cell_type": "code",
   "execution_count": 123,
   "metadata": {},
   "outputs": [
    {
     "data": {
      "text/plain": [
       "[DeviceArray(2.7182817, dtype=float32),\n",
       " DeviceArray(1.3591409, dtype=float32),\n",
       " DeviceArray(0.67957044, dtype=float32),\n",
       " DeviceArray(0.33978522, dtype=float32),\n",
       " DeviceArray(0.16989261, dtype=float32)]"
      ]
     },
     "execution_count": 123,
     "metadata": {},
     "output_type": "execute_result"
    }
   ],
   "source": [
    "n_grads"
   ]
  },
  {
   "cell_type": "code",
   "execution_count": null,
   "metadata": {},
   "outputs": [],
   "source": []
  }
 ],
 "metadata": {
  "@webio": {
   "lastCommId": null,
   "lastKernelId": null
  },
  "kernelspec": {
   "display_name": "Python [conda env:jaxde] *",
   "language": "python",
   "name": "conda-env-jaxde-py"
  },
  "language_info": {
   "codemirror_mode": {
    "name": "ipython",
    "version": 2
   },
   "file_extension": ".py",
   "mimetype": "text/x-python",
   "name": "python",
   "nbconvert_exporter": "python",
   "pygments_lexer": "ipython2",
   "version": "2.7.16"
  }
 },
 "nbformat": 4,
 "nbformat_minor": 2
}
